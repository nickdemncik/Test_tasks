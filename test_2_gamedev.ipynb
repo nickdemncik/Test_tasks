{
 "cells": [
  {
   "cell_type": "code",
   "execution_count": 35,
   "id": "b5586c8e",
   "metadata": {},
   "outputs": [],
   "source": [
    "# импортируем необходимые библиотеки\n",
    "import pandas as pd\n",
    "import datetime as dt\n",
    "import seaborn as sns\n",
    "import numpy as np\n",
    "import matplotlib.pyplot as plt\n",
    "import scipy.stats as ss\n",
    "import statsmodels.api as sm\n",
    "\n",
    "%matplotlib inline\n",
    "\n",
    "sns.set_context(\"notebook\", font_scale = 1.5,       \n",
    "         rc = {\"figure.figsize\" : (50, 30),\"axes.titlesize\" : 12})\n"
   ]
  },
  {
   "cell_type": "markdown",
   "id": "37e6ab62",
   "metadata": {},
   "source": [
    "# ЗАДАНИЕ 1: Написать функцию, которая будет считать retention игроков(по дням от даты регистрации)"
   ]
  },
  {
   "cell_type": "markdown",
   "id": "69830f84",
   "metadata": {},
   "source": [
    "Retention – один из самых важных показателей в компании. Он показывает, какой процент новых пользователей вернулись в продукт в конкретный день с момента прихода.\n",
    "\n",
    "Например, retention 1-го дня равен 15%, то 15% новых пользователей вернулись в продукт на следующий день после его первого использования."
   ]
  },
  {
   "cell_type": "markdown",
   "id": "1126bf55",
   "metadata": {},
   "source": [
    "Итак, нам нужно написать функцию, которая будет расчитывать retention игроков по дням от даты регистрации. Нам даны две таблицы с данными, содержащими информацию о времени регистрации игроков, а также о времени захода в игру пользователей. Данные содержат user_id(uid), и timestamp - время регистрации или аутентификации. "
   ]
  },
  {
   "cell_type": "code",
   "execution_count": 36,
   "id": "be0eff31",
   "metadata": {},
   "outputs": [],
   "source": [
    "#  выгружаем данные\n",
    "auth_df = pd.read_csv('D:/jupyter_notebook/final_project/final_project_task_1_auth.csv', sep=';')\n",
    "reg_df = pd.read_csv('D:/jupyter_notebook/final_project/final_project_task_1_reg.csv', sep=';')"
   ]
  },
  {
   "cell_type": "code",
   "execution_count": 37,
   "id": "3370fdca",
   "metadata": {},
   "outputs": [
    {
     "name": "stdout",
     "output_type": "stream",
     "text": [
      "СОДЕРЖАНИЕ ДАТАФРЕЙМОВ: \n",
      "     auth_ts  uid\n",
      "0  911382223    1\n",
      "1  932683089    2\n",
      "2  932921206    2\n",
      "      reg_ts  uid\n",
      "0  911382223    1\n",
      "1  932683089    2\n",
      "2  947802447    3\n",
      "\n",
      "ТИПЫ ДАННЫХ: \n",
      "reg_ts    int64\n",
      "uid       int64\n",
      "dtype: object\n",
      "auth_ts    int64\n",
      "uid        int64\n",
      "dtype: object\n",
      "\n",
      "ПРОПУЩЕННЫЕ ЗНАЧЕНИЯ: \n",
      "В таблице регистрации : reg_ts    0\n",
      "uid       0\n",
      "dtype: int64\n",
      "В таблице аутентификации : reg_ts    0\n",
      "uid       0\n",
      "dtype: int64\n",
      "\n",
      "КОЛИЧЕСТВО СТРОК В ДАТАФРЕЙМАХ:\n",
      "Number of rows in registration data: 1000000\n",
      "Number of rows in authentification data: 9601013\n"
     ]
    }
   ],
   "source": [
    "# посомтрим на данные, их тип, наличие(или отсутствие) пропущенных значений, \n",
    "# а также на количество строк в каждой из таблиц\n",
    "print('СОДЕРЖАНИЕ ДАТАФРЕЙМОВ: ')\n",
    "print(auth_df.head(3))\n",
    "print(reg_df.head(3))\n",
    "print()\n",
    "print('ТИПЫ ДАННЫХ: ')\n",
    "print(reg_df.dtypes)\n",
    "print(auth_df.dtypes)\n",
    "print()\n",
    "print('ПРОПУЩЕННЫЕ ЗНАЧЕНИЯ: ')\n",
    "print(f\"В таблице регистрации : {reg_df.isna().sum()}\")\n",
    "print(f\"В таблице аутентификации : {reg_df.isna().sum()}\")\n",
    "print()\n",
    "print('КОЛИЧЕСТВО СТРОК В ДАТАФРЕЙМАХ:')\n",
    "print(f\"Number of rows in registration data: {reg_df.shape[0]}\")\n",
    "print(f\"Number of rows in authentification data: {auth_df.shape[0]}\")\n"
   ]
  },
  {
   "cell_type": "markdown",
   "id": "25ad4185",
   "metadata": {},
   "source": [
    "На данные посмотрели, пропущенных нет, 1 000 000 юзеров, более 9 000 000 заходов в игру. Прежде чем писать функцию, взглянем на распределения юзеров по времени."
   ]
  },
  {
   "cell_type": "code",
   "execution_count": 38,
   "id": "cd391912",
   "metadata": {},
   "outputs": [],
   "source": [
    "# переведем timestamp в дату\n",
    "reg_df['reg_ts'] = pd.to_datetime(reg_df.reg_ts, unit='s')\n",
    "auth_df['auth_ts'] = pd.to_datetime(auth_df.auth_ts, unit='s')"
   ]
  },
  {
   "cell_type": "code",
   "execution_count": 39,
   "id": "19d3c35a",
   "metadata": {},
   "outputs": [
    {
     "data": {
      "text/plain": [
       "<AxesSubplot:xlabel='reg_ts', ylabel='Count'>"
      ]
     },
     "execution_count": 39,
     "metadata": {},
     "output_type": "execute_result"
    },
    {
     "data": {
      "image/png": "[encoded data removed]",
      "text/plain": [
       "<Figure size 432x288 with 1 Axes>"
      ]
     },
     "metadata": {
      "needs_background": "light"
     },
     "output_type": "display_data"
    }
   ],
   "source": [
    "sns.histplot(reg_df, x='reg_ts')"
   ]
  },
  {
   "cell_type": "code",
   "execution_count": 40,
   "id": "f1a9213b",
   "metadata": {},
   "outputs": [
    {
     "data": {
      "text/plain": [
       "<AxesSubplot:xlabel='auth_ts', ylabel='Count'>"
      ]
     },
     "execution_count": 40,
     "metadata": {},
     "output_type": "execute_result"
    },
    {
     "data": {
      "image/png": "[encoded data removed]",
      "text/plain": [
       "<Figure size 432x288 with 1 Axes>"
      ]
     },
     "metadata": {
      "needs_background": "light"
     },
     "output_type": "display_data"
    }
   ],
   "source": [
    "sns.histplot(auth_df, x='auth_ts')"
   ]
  },
  {
   "cell_type": "markdown",
   "id": "c6af6377",
   "metadata": {},
   "source": [
    "По графикам видно, что большая часть данных в период с 2012 по 2020 год, до этого времени регистраций и аутентификаций было заметно меньше. Для написания функции нам это не важно, но в любом случае хотелось увидеть картину шире."
   ]
  },
  {
   "cell_type": "markdown",
   "id": "99e49dfb",
   "metadata": {},
   "source": [
    "Теперь приступим к самому интересному. Так как данных у нас много (более 20 лет), а retention нам надо считать по дням с даты регистрации, разумно было бы добавить в функцию возможность выбирать период, в котором мы хотим смотреть показатели, а также выбирать, retention какого дня мы хотим посмотреть(1d, 7d, 28d и т.д.)"
   ]
  },
  {
   "cell_type": "markdown",
   "id": "0300c49f",
   "metadata": {},
   "source": [
    "Вкратце опишем работу функции, а потом более подробно прокомментируем каждый шаг. Сджойним две таблицы по uid, отберем период, считаем разницу между днем регистрации и захода в игру, определяем когорты, считаем retention."
   ]
  },
  {
   "cell_type": "code",
   "execution_count": 41,
   "id": "66788417",
   "metadata": {},
   "outputs": [],
   "source": [
    "# вызываем функцию, в параметрах два датасета(reg_data, auth_data), \n",
    "# выбор n day retention(n), период год-месяц-день(y_1, m_1, d_1, y_2, m_2, d_2)\n",
    "def calculate_retention(reg_data, auth_data, n, y_1, m_1, d_1, y_2, m_2, d_2):\n",
    "    \n",
    "    # переведем timestamp к дате     \n",
    "    reg_df['reg_ts'] = pd.to_datetime(reg_df.reg_ts, unit='s')\n",
    "    auth_df['auth_ts'] = pd.to_datetime(auth_df.auth_ts, unit='s')\n",
    "    \n",
    "    # соединим два датасета, используя left join, для того,\n",
    "    # чтобы каждому auth date соответствовал reg date     \n",
    "    temp_df = auth_df.merge(reg_df, how='left', on='uid')\n",
    "    \n",
    "    # необязательный шаг, меняющий местами колонки     \n",
    "    cols = temp_df.columns.to_list()\n",
    "    cols = cols[1] + ' ' + cols[0] + ' ' + cols[-1]\n",
    "    cols = cols.split(' ')\n",
    "    temp_df = temp_df[cols]\n",
    "    \n",
    "    # добавим колонки с днем регистрации и аутентификации    \n",
    "    temp_df['reg_day'] = temp_df.reg_ts.dt.date\n",
    "    temp_df['auth_day'] = temp_df.auth_ts.dt.date\n",
    "    \n",
    "    # отбираем из датасета необходимый для расчета период \n",
    "    main_df = temp_df[(temp_df.reg_day >= dt.date(year=y_1,month=m_1,day=d_1)) & \\\n",
    "                      (temp_df.reg_day <= dt.date(year=y_2,month=m_2,day=d_2))]\n",
    "    \n",
    "    # считаем разность дня аутент. с днем регистрации      \n",
    "    main_df = main_df.assign(datediff=(main_df.auth_day - main_df.reg_day))\n",
    "    \n",
    "    # группируем по дню регистрации и по разности, считаем число пользователей,\n",
    "    # которые зарегистрировались в какой-то день, \n",
    "    # и через сколько дней после регистрации они зашли в игру\n",
    "    temp_df_2 = main_df \\\n",
    "                        .groupby(['reg_day', 'datediff'], as_index=False) \\\n",
    "                        .agg({'uid': pd.Series.nunique}) \\\n",
    "                        .rename(columns={'datediff': 'days_after_reg'})\n",
    "    \n",
    "    # переворачиваем таблицу, делая колонками дни после регистрации,\n",
    "    # значения - число пользователей в каждый из дней, строки - день регистрации,\n",
    "    # предварительно выбрав n day retention    \n",
    "    pivoted = temp_df_2[temp_df_2.days_after_reg <= pd.Timedelta(n, 'd')] \\\n",
    "                       .pivot(columns = 'days_after_reg', values = 'uid', index='reg_day')\n",
    "    \n",
    "   \n",
    "    # считаем retention в процентах, разделив датафрейм по индексам,\n",
    "    # также переводя значение числа пользователей в проценты,\n",
    "    # где в 1 колонке будет 100%\n",
    "    sizes = pivoted.iloc[:,0]\n",
    "    retention = pivoted.divide(sizes, axis=0)\n",
    "    retention = retention.round(2)\n",
    "    retention = retention \\\n",
    "                            .style.format(\"{:.2%}\", na_rep='') \\\n",
    "                            .background_gradient(cmap=\"Blues\")\n",
    "    \n",
    "    return retention\n",
    "    "
   ]
  },
  {
   "cell_type": "code",
   "execution_count": 42,
   "id": "2c4439e0",
   "metadata": {
    "scrolled": false
   },
   "outputs": [
    {
     "data": {
      "text/html": [
       "<style type=\"text/css\">\n",
       "#T_c3d92_row0_col0, #T_c3d92_row1_col0, #T_c3d92_row2_col0, #T_c3d92_row2_col2, #T_c3d92_row2_col5, #T_c3d92_row3_col0, #T_c3d92_row3_col1, #T_c3d92_row3_col2, #T_c3d92_row4_col0, #T_c3d92_row5_col0, #T_c3d92_row6_col0, #T_c3d92_row6_col5, #T_c3d92_row7_col0, #T_c3d92_row7_col1, #T_c3d92_row8_col0, #T_c3d92_row8_col2, #T_c3d92_row8_col5, #T_c3d92_row8_col7, #T_c3d92_row9_col0, #T_c3d92_row10_col0, #T_c3d92_row10_col2, #T_c3d92_row11_col0, #T_c3d92_row12_col0, #T_c3d92_row13_col0, #T_c3d92_row13_col6, #T_c3d92_row14_col0, #T_c3d92_row14_col1, #T_c3d92_row15_col0, #T_c3d92_row16_col0, #T_c3d92_row17_col0, #T_c3d92_row17_col3, #T_c3d92_row17_col5, #T_c3d92_row18_col0, #T_c3d92_row18_col1, #T_c3d92_row19_col0, #T_c3d92_row20_col0, #T_c3d92_row20_col5, #T_c3d92_row20_col6, #T_c3d92_row21_col0, #T_c3d92_row22_col0, #T_c3d92_row22_col2, #T_c3d92_row22_col5, #T_c3d92_row23_col0, #T_c3d92_row23_col2, #T_c3d92_row23_col4, #T_c3d92_row23_col5, #T_c3d92_row24_col0, #T_c3d92_row25_col0, #T_c3d92_row26_col0, #T_c3d92_row27_col0, #T_c3d92_row27_col2, #T_c3d92_row28_col0, #T_c3d92_row28_col6, #T_c3d92_row29_col0, #T_c3d92_row30_col0 {\n",
       "  background-color: #f7fbff;\n",
       "  color: #000000;\n",
       "}\n",
       "#T_c3d92_row0_col1, #T_c3d92_row1_col1, #T_c3d92_row1_col2, #T_c3d92_row1_col4, #T_c3d92_row2_col1, #T_c3d92_row2_col6, #T_c3d92_row3_col6, #T_c3d92_row4_col1, #T_c3d92_row4_col2, #T_c3d92_row4_col4, #T_c3d92_row4_col6, #T_c3d92_row5_col1, #T_c3d92_row5_col2, #T_c3d92_row5_col6, #T_c3d92_row6_col1, #T_c3d92_row7_col2, #T_c3d92_row8_col1, #T_c3d92_row8_col4, #T_c3d92_row8_col6, #T_c3d92_row9_col1, #T_c3d92_row9_col2, #T_c3d92_row10_col1, #T_c3d92_row10_col6, #T_c3d92_row11_col1, #T_c3d92_row11_col6, #T_c3d92_row12_col1, #T_c3d92_row12_col2, #T_c3d92_row12_col4, #T_c3d92_row13_col1, #T_c3d92_row13_col2, #T_c3d92_row15_col1, #T_c3d92_row15_col2, #T_c3d92_row16_col1, #T_c3d92_row16_col2, #T_c3d92_row16_col4, #T_c3d92_row17_col1, #T_c3d92_row17_col2, #T_c3d92_row18_col6, #T_c3d92_row19_col1, #T_c3d92_row19_col2, #T_c3d92_row20_col1, #T_c3d92_row20_col2, #T_c3d92_row20_col4, #T_c3d92_row21_col4, #T_c3d92_row21_col6, #T_c3d92_row22_col1, #T_c3d92_row22_col4, #T_c3d92_row22_col6, #T_c3d92_row23_col1, #T_c3d92_row24_col2, #T_c3d92_row24_col6, #T_c3d92_row25_col2, #T_c3d92_row26_col1, #T_c3d92_row26_col2, #T_c3d92_row26_col4, #T_c3d92_row26_col6, #T_c3d92_row27_col1, #T_c3d92_row27_col4, #T_c3d92_row28_col1, #T_c3d92_row29_col1, #T_c3d92_row29_col2, #T_c3d92_row29_col4, #T_c3d92_row30_col2, #T_c3d92_row30_col4 {\n",
       "  background-color: #6aaed6;\n",
       "  color: #f1f1f1;\n",
       "}\n",
       "#T_c3d92_row0_col2, #T_c3d92_row0_col5, #T_c3d92_row6_col2, #T_c3d92_row6_col6, #T_c3d92_row9_col5, #T_c3d92_row9_col7, #T_c3d92_row11_col2, #T_c3d92_row11_col5, #T_c3d92_row14_col2, #T_c3d92_row14_col6, #T_c3d92_row15_col4, #T_c3d92_row15_col5, #T_c3d92_row16_col5, #T_c3d92_row18_col2, #T_c3d92_row18_col4, #T_c3d92_row20_col3, #T_c3d92_row21_col1, #T_c3d92_row21_col2, #T_c3d92_row24_col1, #T_c3d92_row24_col5, #T_c3d92_row25_col1, #T_c3d92_row25_col5, #T_c3d92_row26_col3, #T_c3d92_row26_col5, #T_c3d92_row28_col2, #T_c3d92_row30_col1 {\n",
       "  background-color: #08306b;\n",
       "  color: #f1f1f1;\n",
       "}\n",
       "#T_c3d92_row0_col3, #T_c3d92_row2_col3, #T_c3d92_row3_col3, #T_c3d92_row4_col3, #T_c3d92_row9_col3, #T_c3d92_row10_col3, #T_c3d92_row14_col3, #T_c3d92_row15_col3, #T_c3d92_row18_col3, #T_c3d92_row19_col3, #T_c3d92_row25_col3 {\n",
       "  background-color: #3787c0;\n",
       "  color: #f1f1f1;\n",
       "}\n",
       "#T_c3d92_row0_col4, #T_c3d92_row2_col7, #T_c3d92_row3_col4, #T_c3d92_row5_col4, #T_c3d92_row6_col4, #T_c3d92_row11_col4, #T_c3d92_row12_col7, #T_c3d92_row14_col4, #T_c3d92_row15_col7, #T_c3d92_row17_col4, #T_c3d92_row23_col7, #T_c3d92_row26_col7, #T_c3d92_row30_col7 {\n",
       "  background-color: #c6dbef;\n",
       "  color: #000000;\n",
       "}\n",
       "#T_c3d92_row0_col6, #T_c3d92_row0_col7, #T_c3d92_row3_col7, #T_c3d92_row4_col7, #T_c3d92_row7_col7, #T_c3d92_row9_col6, #T_c3d92_row12_col6, #T_c3d92_row13_col7, #T_c3d92_row15_col6, #T_c3d92_row17_col6, #T_c3d92_row17_col7, #T_c3d92_row20_col7, #T_c3d92_row25_col6, #T_c3d92_row25_col7, #T_c3d92_row29_col7, #T_c3d92_row30_col6 {\n",
       "  background-color: #2070b4;\n",
       "  color: #f1f1f1;\n",
       "}\n",
       "#T_c3d92_row1_col3, #T_c3d92_row5_col3, #T_c3d92_row6_col3, #T_c3d92_row7_col3, #T_c3d92_row8_col3, #T_c3d92_row11_col3, #T_c3d92_row12_col3, #T_c3d92_row13_col3, #T_c3d92_row16_col3, #T_c3d92_row21_col3, #T_c3d92_row22_col3, #T_c3d92_row23_col3, #T_c3d92_row24_col3, #T_c3d92_row27_col3, #T_c3d92_row28_col3, #T_c3d92_row29_col3, #T_c3d92_row30_col3 {\n",
       "  background-color: #abd0e6;\n",
       "  color: #000000;\n",
       "}\n",
       "#T_c3d92_row1_col5, #T_c3d92_row1_col7, #T_c3d92_row3_col5, #T_c3d92_row4_col5, #T_c3d92_row5_col5, #T_c3d92_row5_col7, #T_c3d92_row6_col7, #T_c3d92_row7_col5, #T_c3d92_row10_col5, #T_c3d92_row10_col7, #T_c3d92_row11_col7, #T_c3d92_row12_col5, #T_c3d92_row13_col5, #T_c3d92_row14_col5, #T_c3d92_row14_col7, #T_c3d92_row16_col7, #T_c3d92_row18_col5, #T_c3d92_row18_col7, #T_c3d92_row19_col5, #T_c3d92_row19_col7, #T_c3d92_row21_col5, #T_c3d92_row21_col7, #T_c3d92_row22_col7, #T_c3d92_row24_col7, #T_c3d92_row27_col5, #T_c3d92_row27_col7, #T_c3d92_row28_col5, #T_c3d92_row28_col7, #T_c3d92_row29_col5, #T_c3d92_row30_col5 {\n",
       "  background-color: #6caed6;\n",
       "  color: #f1f1f1;\n",
       "}\n",
       "#T_c3d92_row1_col6, #T_c3d92_row7_col6, #T_c3d92_row16_col6, #T_c3d92_row19_col6, #T_c3d92_row23_col6, #T_c3d92_row27_col6, #T_c3d92_row29_col6 {\n",
       "  background-color: #c7dbef;\n",
       "  color: #000000;\n",
       "}\n",
       "#T_c3d92_row2_col4, #T_c3d92_row7_col4, #T_c3d92_row9_col4, #T_c3d92_row10_col4, #T_c3d92_row13_col4, #T_c3d92_row19_col4, #T_c3d92_row24_col4, #T_c3d92_row25_col4, #T_c3d92_row28_col4 {\n",
       "  background-color: #2171b5;\n",
       "  color: #f1f1f1;\n",
       "}\n",
       "</style>\n",
       "<table id=\"T_c3d92\">\n",
       "  <thead>\n",
       "    <tr>\n",
       "      <th class=\"index_name level0\" >days_after_reg</th>\n",
       "      <th id=\"T_c3d92_level0_col0\" class=\"col_heading level0 col0\" >0 days 00:00:00</th>\n",
       "      <th id=\"T_c3d92_level0_col1\" class=\"col_heading level0 col1\" >1 days 00:00:00</th>\n",
       "      <th id=\"T_c3d92_level0_col2\" class=\"col_heading level0 col2\" >2 days 00:00:00</th>\n",
       "      <th id=\"T_c3d92_level0_col3\" class=\"col_heading level0 col3\" >3 days 00:00:00</th>\n",
       "      <th id=\"T_c3d92_level0_col4\" class=\"col_heading level0 col4\" >4 days 00:00:00</th>\n",
       "      <th id=\"T_c3d92_level0_col5\" class=\"col_heading level0 col5\" >5 days 00:00:00</th>\n",
       "      <th id=\"T_c3d92_level0_col6\" class=\"col_heading level0 col6\" >6 days 00:00:00</th>\n",
       "      <th id=\"T_c3d92_level0_col7\" class=\"col_heading level0 col7\" >7 days 00:00:00</th>\n",
       "    </tr>\n",
       "    <tr>\n",
       "      <th class=\"index_name level0\" >reg_day</th>\n",
       "      <th class=\"blank col0\" >&nbsp;</th>\n",
       "      <th class=\"blank col1\" >&nbsp;</th>\n",
       "      <th class=\"blank col2\" >&nbsp;</th>\n",
       "      <th class=\"blank col3\" >&nbsp;</th>\n",
       "      <th class=\"blank col4\" >&nbsp;</th>\n",
       "      <th class=\"blank col5\" >&nbsp;</th>\n",
       "      <th class=\"blank col6\" >&nbsp;</th>\n",
       "      <th class=\"blank col7\" >&nbsp;</th>\n",
       "    </tr>\n",
       "  </thead>\n",
       "  <tbody>\n",
       "    <tr>\n",
       "      <th id=\"T_c3d92_level0_row0\" class=\"row_heading level0 row0\" >2019-09-01</th>\n",
       "      <td id=\"T_c3d92_row0_col0\" class=\"data row0 col0\" >100.00%</td>\n",
       "      <td id=\"T_c3d92_row0_col1\" class=\"data row0 col1\" >2.00%</td>\n",
       "      <td id=\"T_c3d92_row0_col2\" class=\"data row0 col2\" >5.00%</td>\n",
       "      <td id=\"T_c3d92_row0_col3\" class=\"data row0 col3\" >5.00%</td>\n",
       "      <td id=\"T_c3d92_row0_col4\" class=\"data row0 col4\" >4.00%</td>\n",
       "      <td id=\"T_c3d92_row0_col5\" class=\"data row0 col5\" >7.00%</td>\n",
       "      <td id=\"T_c3d92_row0_col6\" class=\"data row0 col6\" >8.00%</td>\n",
       "      <td id=\"T_c3d92_row0_col7\" class=\"data row0 col7\" >7.00%</td>\n",
       "    </tr>\n",
       "    <tr>\n",
       "      <th id=\"T_c3d92_level0_row1\" class=\"row_heading level0 row1\" >2019-09-02</th>\n",
       "      <td id=\"T_c3d92_row1_col0\" class=\"data row1 col0\" >100.00%</td>\n",
       "      <td id=\"T_c3d92_row1_col1\" class=\"data row1 col1\" >2.00%</td>\n",
       "      <td id=\"T_c3d92_row1_col2\" class=\"data row1 col2\" >4.00%</td>\n",
       "      <td id=\"T_c3d92_row1_col3\" class=\"data row1 col3\" >4.00%</td>\n",
       "      <td id=\"T_c3d92_row1_col4\" class=\"data row1 col4\" >5.00%</td>\n",
       "      <td id=\"T_c3d92_row1_col5\" class=\"data row1 col5\" >6.00%</td>\n",
       "      <td id=\"T_c3d92_row1_col6\" class=\"data row1 col6\" >6.00%</td>\n",
       "      <td id=\"T_c3d92_row1_col7\" class=\"data row1 col7\" >6.00%</td>\n",
       "    </tr>\n",
       "    <tr>\n",
       "      <th id=\"T_c3d92_level0_row2\" class=\"row_heading level0 row2\" >2019-09-03</th>\n",
       "      <td id=\"T_c3d92_row2_col0\" class=\"data row2 col0\" >100.00%</td>\n",
       "      <td id=\"T_c3d92_row2_col1\" class=\"data row2 col1\" >2.00%</td>\n",
       "      <td id=\"T_c3d92_row2_col2\" class=\"data row2 col2\" >3.00%</td>\n",
       "      <td id=\"T_c3d92_row2_col3\" class=\"data row2 col3\" >5.00%</td>\n",
       "      <td id=\"T_c3d92_row2_col4\" class=\"data row2 col4\" >6.00%</td>\n",
       "      <td id=\"T_c3d92_row2_col5\" class=\"data row2 col5\" >5.00%</td>\n",
       "      <td id=\"T_c3d92_row2_col6\" class=\"data row2 col6\" >7.00%</td>\n",
       "      <td id=\"T_c3d92_row2_col7\" class=\"data row2 col7\" >5.00%</td>\n",
       "    </tr>\n",
       "    <tr>\n",
       "      <th id=\"T_c3d92_level0_row3\" class=\"row_heading level0 row3\" >2019-09-04</th>\n",
       "      <td id=\"T_c3d92_row3_col0\" class=\"data row3 col0\" >100.00%</td>\n",
       "      <td id=\"T_c3d92_row3_col1\" class=\"data row3 col1\" >1.00%</td>\n",
       "      <td id=\"T_c3d92_row3_col2\" class=\"data row3 col2\" >3.00%</td>\n",
       "      <td id=\"T_c3d92_row3_col3\" class=\"data row3 col3\" >5.00%</td>\n",
       "      <td id=\"T_c3d92_row3_col4\" class=\"data row3 col4\" >4.00%</td>\n",
       "      <td id=\"T_c3d92_row3_col5\" class=\"data row3 col5\" >6.00%</td>\n",
       "      <td id=\"T_c3d92_row3_col6\" class=\"data row3 col6\" >7.00%</td>\n",
       "      <td id=\"T_c3d92_row3_col7\" class=\"data row3 col7\" >7.00%</td>\n",
       "    </tr>\n",
       "    <tr>\n",
       "      <th id=\"T_c3d92_level0_row4\" class=\"row_heading level0 row4\" >2019-09-05</th>\n",
       "      <td id=\"T_c3d92_row4_col0\" class=\"data row4 col0\" >100.00%</td>\n",
       "      <td id=\"T_c3d92_row4_col1\" class=\"data row4 col1\" >2.00%</td>\n",
       "      <td id=\"T_c3d92_row4_col2\" class=\"data row4 col2\" >4.00%</td>\n",
       "      <td id=\"T_c3d92_row4_col3\" class=\"data row4 col3\" >5.00%</td>\n",
       "      <td id=\"T_c3d92_row4_col4\" class=\"data row4 col4\" >5.00%</td>\n",
       "      <td id=\"T_c3d92_row4_col5\" class=\"data row4 col5\" >6.00%</td>\n",
       "      <td id=\"T_c3d92_row4_col6\" class=\"data row4 col6\" >7.00%</td>\n",
       "      <td id=\"T_c3d92_row4_col7\" class=\"data row4 col7\" >7.00%</td>\n",
       "    </tr>\n",
       "    <tr>\n",
       "      <th id=\"T_c3d92_level0_row5\" class=\"row_heading level0 row5\" >2019-09-06</th>\n",
       "      <td id=\"T_c3d92_row5_col0\" class=\"data row5 col0\" >100.00%</td>\n",
       "      <td id=\"T_c3d92_row5_col1\" class=\"data row5 col1\" >2.00%</td>\n",
       "      <td id=\"T_c3d92_row5_col2\" class=\"data row5 col2\" >4.00%</td>\n",
       "      <td id=\"T_c3d92_row5_col3\" class=\"data row5 col3\" >4.00%</td>\n",
       "      <td id=\"T_c3d92_row5_col4\" class=\"data row5 col4\" >4.00%</td>\n",
       "      <td id=\"T_c3d92_row5_col5\" class=\"data row5 col5\" >6.00%</td>\n",
       "      <td id=\"T_c3d92_row5_col6\" class=\"data row5 col6\" >7.00%</td>\n",
       "      <td id=\"T_c3d92_row5_col7\" class=\"data row5 col7\" >6.00%</td>\n",
       "    </tr>\n",
       "    <tr>\n",
       "      <th id=\"T_c3d92_level0_row6\" class=\"row_heading level0 row6\" >2019-09-07</th>\n",
       "      <td id=\"T_c3d92_row6_col0\" class=\"data row6 col0\" >100.00%</td>\n",
       "      <td id=\"T_c3d92_row6_col1\" class=\"data row6 col1\" >2.00%</td>\n",
       "      <td id=\"T_c3d92_row6_col2\" class=\"data row6 col2\" >5.00%</td>\n",
       "      <td id=\"T_c3d92_row6_col3\" class=\"data row6 col3\" >4.00%</td>\n",
       "      <td id=\"T_c3d92_row6_col4\" class=\"data row6 col4\" >4.00%</td>\n",
       "      <td id=\"T_c3d92_row6_col5\" class=\"data row6 col5\" >5.00%</td>\n",
       "      <td id=\"T_c3d92_row6_col6\" class=\"data row6 col6\" >9.00%</td>\n",
       "      <td id=\"T_c3d92_row6_col7\" class=\"data row6 col7\" >6.00%</td>\n",
       "    </tr>\n",
       "    <tr>\n",
       "      <th id=\"T_c3d92_level0_row7\" class=\"row_heading level0 row7\" >2019-09-08</th>\n",
       "      <td id=\"T_c3d92_row7_col0\" class=\"data row7 col0\" >100.00%</td>\n",
       "      <td id=\"T_c3d92_row7_col1\" class=\"data row7 col1\" >1.00%</td>\n",
       "      <td id=\"T_c3d92_row7_col2\" class=\"data row7 col2\" >4.00%</td>\n",
       "      <td id=\"T_c3d92_row7_col3\" class=\"data row7 col3\" >4.00%</td>\n",
       "      <td id=\"T_c3d92_row7_col4\" class=\"data row7 col4\" >6.00%</td>\n",
       "      <td id=\"T_c3d92_row7_col5\" class=\"data row7 col5\" >6.00%</td>\n",
       "      <td id=\"T_c3d92_row7_col6\" class=\"data row7 col6\" >6.00%</td>\n",
       "      <td id=\"T_c3d92_row7_col7\" class=\"data row7 col7\" >7.00%</td>\n",
       "    </tr>\n",
       "    <tr>\n",
       "      <th id=\"T_c3d92_level0_row8\" class=\"row_heading level0 row8\" >2019-09-09</th>\n",
       "      <td id=\"T_c3d92_row8_col0\" class=\"data row8 col0\" >100.00%</td>\n",
       "      <td id=\"T_c3d92_row8_col1\" class=\"data row8 col1\" >2.00%</td>\n",
       "      <td id=\"T_c3d92_row8_col2\" class=\"data row8 col2\" >3.00%</td>\n",
       "      <td id=\"T_c3d92_row8_col3\" class=\"data row8 col3\" >4.00%</td>\n",
       "      <td id=\"T_c3d92_row8_col4\" class=\"data row8 col4\" >5.00%</td>\n",
       "      <td id=\"T_c3d92_row8_col5\" class=\"data row8 col5\" >5.00%</td>\n",
       "      <td id=\"T_c3d92_row8_col6\" class=\"data row8 col6\" >7.00%</td>\n",
       "      <td id=\"T_c3d92_row8_col7\" class=\"data row8 col7\" >4.00%</td>\n",
       "    </tr>\n",
       "    <tr>\n",
       "      <th id=\"T_c3d92_level0_row9\" class=\"row_heading level0 row9\" >2019-09-10</th>\n",
       "      <td id=\"T_c3d92_row9_col0\" class=\"data row9 col0\" >100.00%</td>\n",
       "      <td id=\"T_c3d92_row9_col1\" class=\"data row9 col1\" >2.00%</td>\n",
       "      <td id=\"T_c3d92_row9_col2\" class=\"data row9 col2\" >4.00%</td>\n",
       "      <td id=\"T_c3d92_row9_col3\" class=\"data row9 col3\" >5.00%</td>\n",
       "      <td id=\"T_c3d92_row9_col4\" class=\"data row9 col4\" >6.00%</td>\n",
       "      <td id=\"T_c3d92_row9_col5\" class=\"data row9 col5\" >7.00%</td>\n",
       "      <td id=\"T_c3d92_row9_col6\" class=\"data row9 col6\" >8.00%</td>\n",
       "      <td id=\"T_c3d92_row9_col7\" class=\"data row9 col7\" >8.00%</td>\n",
       "    </tr>\n",
       "    <tr>\n",
       "      <th id=\"T_c3d92_level0_row10\" class=\"row_heading level0 row10\" >2019-09-11</th>\n",
       "      <td id=\"T_c3d92_row10_col0\" class=\"data row10 col0\" >100.00%</td>\n",
       "      <td id=\"T_c3d92_row10_col1\" class=\"data row10 col1\" >2.00%</td>\n",
       "      <td id=\"T_c3d92_row10_col2\" class=\"data row10 col2\" >3.00%</td>\n",
       "      <td id=\"T_c3d92_row10_col3\" class=\"data row10 col3\" >5.00%</td>\n",
       "      <td id=\"T_c3d92_row10_col4\" class=\"data row10 col4\" >6.00%</td>\n",
       "      <td id=\"T_c3d92_row10_col5\" class=\"data row10 col5\" >6.00%</td>\n",
       "      <td id=\"T_c3d92_row10_col6\" class=\"data row10 col6\" >7.00%</td>\n",
       "      <td id=\"T_c3d92_row10_col7\" class=\"data row10 col7\" >6.00%</td>\n",
       "    </tr>\n",
       "    <tr>\n",
       "      <th id=\"T_c3d92_level0_row11\" class=\"row_heading level0 row11\" >2019-09-12</th>\n",
       "      <td id=\"T_c3d92_row11_col0\" class=\"data row11 col0\" >100.00%</td>\n",
       "      <td id=\"T_c3d92_row11_col1\" class=\"data row11 col1\" >2.00%</td>\n",
       "      <td id=\"T_c3d92_row11_col2\" class=\"data row11 col2\" >5.00%</td>\n",
       "      <td id=\"T_c3d92_row11_col3\" class=\"data row11 col3\" >4.00%</td>\n",
       "      <td id=\"T_c3d92_row11_col4\" class=\"data row11 col4\" >4.00%</td>\n",
       "      <td id=\"T_c3d92_row11_col5\" class=\"data row11 col5\" >7.00%</td>\n",
       "      <td id=\"T_c3d92_row11_col6\" class=\"data row11 col6\" >7.00%</td>\n",
       "      <td id=\"T_c3d92_row11_col7\" class=\"data row11 col7\" >6.00%</td>\n",
       "    </tr>\n",
       "    <tr>\n",
       "      <th id=\"T_c3d92_level0_row12\" class=\"row_heading level0 row12\" >2019-09-13</th>\n",
       "      <td id=\"T_c3d92_row12_col0\" class=\"data row12 col0\" >100.00%</td>\n",
       "      <td id=\"T_c3d92_row12_col1\" class=\"data row12 col1\" >2.00%</td>\n",
       "      <td id=\"T_c3d92_row12_col2\" class=\"data row12 col2\" >4.00%</td>\n",
       "      <td id=\"T_c3d92_row12_col3\" class=\"data row12 col3\" >4.00%</td>\n",
       "      <td id=\"T_c3d92_row12_col4\" class=\"data row12 col4\" >5.00%</td>\n",
       "      <td id=\"T_c3d92_row12_col5\" class=\"data row12 col5\" >6.00%</td>\n",
       "      <td id=\"T_c3d92_row12_col6\" class=\"data row12 col6\" >8.00%</td>\n",
       "      <td id=\"T_c3d92_row12_col7\" class=\"data row12 col7\" >5.00%</td>\n",
       "    </tr>\n",
       "    <tr>\n",
       "      <th id=\"T_c3d92_level0_row13\" class=\"row_heading level0 row13\" >2019-09-14</th>\n",
       "      <td id=\"T_c3d92_row13_col0\" class=\"data row13 col0\" >100.00%</td>\n",
       "      <td id=\"T_c3d92_row13_col1\" class=\"data row13 col1\" >2.00%</td>\n",
       "      <td id=\"T_c3d92_row13_col2\" class=\"data row13 col2\" >4.00%</td>\n",
       "      <td id=\"T_c3d92_row13_col3\" class=\"data row13 col3\" >4.00%</td>\n",
       "      <td id=\"T_c3d92_row13_col4\" class=\"data row13 col4\" >6.00%</td>\n",
       "      <td id=\"T_c3d92_row13_col5\" class=\"data row13 col5\" >6.00%</td>\n",
       "      <td id=\"T_c3d92_row13_col6\" class=\"data row13 col6\" >5.00%</td>\n",
       "      <td id=\"T_c3d92_row13_col7\" class=\"data row13 col7\" >7.00%</td>\n",
       "    </tr>\n",
       "    <tr>\n",
       "      <th id=\"T_c3d92_level0_row14\" class=\"row_heading level0 row14\" >2019-09-15</th>\n",
       "      <td id=\"T_c3d92_row14_col0\" class=\"data row14 col0\" >100.00%</td>\n",
       "      <td id=\"T_c3d92_row14_col1\" class=\"data row14 col1\" >1.00%</td>\n",
       "      <td id=\"T_c3d92_row14_col2\" class=\"data row14 col2\" >5.00%</td>\n",
       "      <td id=\"T_c3d92_row14_col3\" class=\"data row14 col3\" >5.00%</td>\n",
       "      <td id=\"T_c3d92_row14_col4\" class=\"data row14 col4\" >4.00%</td>\n",
       "      <td id=\"T_c3d92_row14_col5\" class=\"data row14 col5\" >6.00%</td>\n",
       "      <td id=\"T_c3d92_row14_col6\" class=\"data row14 col6\" >9.00%</td>\n",
       "      <td id=\"T_c3d92_row14_col7\" class=\"data row14 col7\" >6.00%</td>\n",
       "    </tr>\n",
       "    <tr>\n",
       "      <th id=\"T_c3d92_level0_row15\" class=\"row_heading level0 row15\" >2019-09-16</th>\n",
       "      <td id=\"T_c3d92_row15_col0\" class=\"data row15 col0\" >100.00%</td>\n",
       "      <td id=\"T_c3d92_row15_col1\" class=\"data row15 col1\" >2.00%</td>\n",
       "      <td id=\"T_c3d92_row15_col2\" class=\"data row15 col2\" >4.00%</td>\n",
       "      <td id=\"T_c3d92_row15_col3\" class=\"data row15 col3\" >5.00%</td>\n",
       "      <td id=\"T_c3d92_row15_col4\" class=\"data row15 col4\" >7.00%</td>\n",
       "      <td id=\"T_c3d92_row15_col5\" class=\"data row15 col5\" >7.00%</td>\n",
       "      <td id=\"T_c3d92_row15_col6\" class=\"data row15 col6\" >8.00%</td>\n",
       "      <td id=\"T_c3d92_row15_col7\" class=\"data row15 col7\" >5.00%</td>\n",
       "    </tr>\n",
       "    <tr>\n",
       "      <th id=\"T_c3d92_level0_row16\" class=\"row_heading level0 row16\" >2019-09-17</th>\n",
       "      <td id=\"T_c3d92_row16_col0\" class=\"data row16 col0\" >100.00%</td>\n",
       "      <td id=\"T_c3d92_row16_col1\" class=\"data row16 col1\" >2.00%</td>\n",
       "      <td id=\"T_c3d92_row16_col2\" class=\"data row16 col2\" >4.00%</td>\n",
       "      <td id=\"T_c3d92_row16_col3\" class=\"data row16 col3\" >4.00%</td>\n",
       "      <td id=\"T_c3d92_row16_col4\" class=\"data row16 col4\" >5.00%</td>\n",
       "      <td id=\"T_c3d92_row16_col5\" class=\"data row16 col5\" >7.00%</td>\n",
       "      <td id=\"T_c3d92_row16_col6\" class=\"data row16 col6\" >6.00%</td>\n",
       "      <td id=\"T_c3d92_row16_col7\" class=\"data row16 col7\" >6.00%</td>\n",
       "    </tr>\n",
       "    <tr>\n",
       "      <th id=\"T_c3d92_level0_row17\" class=\"row_heading level0 row17\" >2019-09-18</th>\n",
       "      <td id=\"T_c3d92_row17_col0\" class=\"data row17 col0\" >100.00%</td>\n",
       "      <td id=\"T_c3d92_row17_col1\" class=\"data row17 col1\" >2.00%</td>\n",
       "      <td id=\"T_c3d92_row17_col2\" class=\"data row17 col2\" >4.00%</td>\n",
       "      <td id=\"T_c3d92_row17_col3\" class=\"data row17 col3\" >3.00%</td>\n",
       "      <td id=\"T_c3d92_row17_col4\" class=\"data row17 col4\" >4.00%</td>\n",
       "      <td id=\"T_c3d92_row17_col5\" class=\"data row17 col5\" >5.00%</td>\n",
       "      <td id=\"T_c3d92_row17_col6\" class=\"data row17 col6\" >8.00%</td>\n",
       "      <td id=\"T_c3d92_row17_col7\" class=\"data row17 col7\" >7.00%</td>\n",
       "    </tr>\n",
       "    <tr>\n",
       "      <th id=\"T_c3d92_level0_row18\" class=\"row_heading level0 row18\" >2019-09-19</th>\n",
       "      <td id=\"T_c3d92_row18_col0\" class=\"data row18 col0\" >100.00%</td>\n",
       "      <td id=\"T_c3d92_row18_col1\" class=\"data row18 col1\" >1.00%</td>\n",
       "      <td id=\"T_c3d92_row18_col2\" class=\"data row18 col2\" >5.00%</td>\n",
       "      <td id=\"T_c3d92_row18_col3\" class=\"data row18 col3\" >5.00%</td>\n",
       "      <td id=\"T_c3d92_row18_col4\" class=\"data row18 col4\" >7.00%</td>\n",
       "      <td id=\"T_c3d92_row18_col5\" class=\"data row18 col5\" >6.00%</td>\n",
       "      <td id=\"T_c3d92_row18_col6\" class=\"data row18 col6\" >7.00%</td>\n",
       "      <td id=\"T_c3d92_row18_col7\" class=\"data row18 col7\" >6.00%</td>\n",
       "    </tr>\n",
       "    <tr>\n",
       "      <th id=\"T_c3d92_level0_row19\" class=\"row_heading level0 row19\" >2019-09-20</th>\n",
       "      <td id=\"T_c3d92_row19_col0\" class=\"data row19 col0\" >100.00%</td>\n",
       "      <td id=\"T_c3d92_row19_col1\" class=\"data row19 col1\" >2.00%</td>\n",
       "      <td id=\"T_c3d92_row19_col2\" class=\"data row19 col2\" >4.00%</td>\n",
       "      <td id=\"T_c3d92_row19_col3\" class=\"data row19 col3\" >5.00%</td>\n",
       "      <td id=\"T_c3d92_row19_col4\" class=\"data row19 col4\" >6.00%</td>\n",
       "      <td id=\"T_c3d92_row19_col5\" class=\"data row19 col5\" >6.00%</td>\n",
       "      <td id=\"T_c3d92_row19_col6\" class=\"data row19 col6\" >6.00%</td>\n",
       "      <td id=\"T_c3d92_row19_col7\" class=\"data row19 col7\" >6.00%</td>\n",
       "    </tr>\n",
       "    <tr>\n",
       "      <th id=\"T_c3d92_level0_row20\" class=\"row_heading level0 row20\" >2019-09-21</th>\n",
       "      <td id=\"T_c3d92_row20_col0\" class=\"data row20 col0\" >100.00%</td>\n",
       "      <td id=\"T_c3d92_row20_col1\" class=\"data row20 col1\" >2.00%</td>\n",
       "      <td id=\"T_c3d92_row20_col2\" class=\"data row20 col2\" >4.00%</td>\n",
       "      <td id=\"T_c3d92_row20_col3\" class=\"data row20 col3\" >6.00%</td>\n",
       "      <td id=\"T_c3d92_row20_col4\" class=\"data row20 col4\" >5.00%</td>\n",
       "      <td id=\"T_c3d92_row20_col5\" class=\"data row20 col5\" >5.00%</td>\n",
       "      <td id=\"T_c3d92_row20_col6\" class=\"data row20 col6\" >5.00%</td>\n",
       "      <td id=\"T_c3d92_row20_col7\" class=\"data row20 col7\" >7.00%</td>\n",
       "    </tr>\n",
       "    <tr>\n",
       "      <th id=\"T_c3d92_level0_row21\" class=\"row_heading level0 row21\" >2019-09-22</th>\n",
       "      <td id=\"T_c3d92_row21_col0\" class=\"data row21 col0\" >100.00%</td>\n",
       "      <td id=\"T_c3d92_row21_col1\" class=\"data row21 col1\" >3.00%</td>\n",
       "      <td id=\"T_c3d92_row21_col2\" class=\"data row21 col2\" >5.00%</td>\n",
       "      <td id=\"T_c3d92_row21_col3\" class=\"data row21 col3\" >4.00%</td>\n",
       "      <td id=\"T_c3d92_row21_col4\" class=\"data row21 col4\" >5.00%</td>\n",
       "      <td id=\"T_c3d92_row21_col5\" class=\"data row21 col5\" >6.00%</td>\n",
       "      <td id=\"T_c3d92_row21_col6\" class=\"data row21 col6\" >7.00%</td>\n",
       "      <td id=\"T_c3d92_row21_col7\" class=\"data row21 col7\" >6.00%</td>\n",
       "    </tr>\n",
       "    <tr>\n",
       "      <th id=\"T_c3d92_level0_row22\" class=\"row_heading level0 row22\" >2019-09-23</th>\n",
       "      <td id=\"T_c3d92_row22_col0\" class=\"data row22 col0\" >100.00%</td>\n",
       "      <td id=\"T_c3d92_row22_col1\" class=\"data row22 col1\" >2.00%</td>\n",
       "      <td id=\"T_c3d92_row22_col2\" class=\"data row22 col2\" >3.00%</td>\n",
       "      <td id=\"T_c3d92_row22_col3\" class=\"data row22 col3\" >4.00%</td>\n",
       "      <td id=\"T_c3d92_row22_col4\" class=\"data row22 col4\" >5.00%</td>\n",
       "      <td id=\"T_c3d92_row22_col5\" class=\"data row22 col5\" >5.00%</td>\n",
       "      <td id=\"T_c3d92_row22_col6\" class=\"data row22 col6\" >7.00%</td>\n",
       "      <td id=\"T_c3d92_row22_col7\" class=\"data row22 col7\" >6.00%</td>\n",
       "    </tr>\n",
       "    <tr>\n",
       "      <th id=\"T_c3d92_level0_row23\" class=\"row_heading level0 row23\" >2019-09-24</th>\n",
       "      <td id=\"T_c3d92_row23_col0\" class=\"data row23 col0\" >100.00%</td>\n",
       "      <td id=\"T_c3d92_row23_col1\" class=\"data row23 col1\" >2.00%</td>\n",
       "      <td id=\"T_c3d92_row23_col2\" class=\"data row23 col2\" >3.00%</td>\n",
       "      <td id=\"T_c3d92_row23_col3\" class=\"data row23 col3\" >4.00%</td>\n",
       "      <td id=\"T_c3d92_row23_col4\" class=\"data row23 col4\" >3.00%</td>\n",
       "      <td id=\"T_c3d92_row23_col5\" class=\"data row23 col5\" >5.00%</td>\n",
       "      <td id=\"T_c3d92_row23_col6\" class=\"data row23 col6\" >6.00%</td>\n",
       "      <td id=\"T_c3d92_row23_col7\" class=\"data row23 col7\" >5.00%</td>\n",
       "    </tr>\n",
       "    <tr>\n",
       "      <th id=\"T_c3d92_level0_row24\" class=\"row_heading level0 row24\" >2019-09-25</th>\n",
       "      <td id=\"T_c3d92_row24_col0\" class=\"data row24 col0\" >100.00%</td>\n",
       "      <td id=\"T_c3d92_row24_col1\" class=\"data row24 col1\" >3.00%</td>\n",
       "      <td id=\"T_c3d92_row24_col2\" class=\"data row24 col2\" >4.00%</td>\n",
       "      <td id=\"T_c3d92_row24_col3\" class=\"data row24 col3\" >4.00%</td>\n",
       "      <td id=\"T_c3d92_row24_col4\" class=\"data row24 col4\" >6.00%</td>\n",
       "      <td id=\"T_c3d92_row24_col5\" class=\"data row24 col5\" >7.00%</td>\n",
       "      <td id=\"T_c3d92_row24_col6\" class=\"data row24 col6\" >7.00%</td>\n",
       "      <td id=\"T_c3d92_row24_col7\" class=\"data row24 col7\" >6.00%</td>\n",
       "    </tr>\n",
       "    <tr>\n",
       "      <th id=\"T_c3d92_level0_row25\" class=\"row_heading level0 row25\" >2019-09-26</th>\n",
       "      <td id=\"T_c3d92_row25_col0\" class=\"data row25 col0\" >100.00%</td>\n",
       "      <td id=\"T_c3d92_row25_col1\" class=\"data row25 col1\" >3.00%</td>\n",
       "      <td id=\"T_c3d92_row25_col2\" class=\"data row25 col2\" >4.00%</td>\n",
       "      <td id=\"T_c3d92_row25_col3\" class=\"data row25 col3\" >5.00%</td>\n",
       "      <td id=\"T_c3d92_row25_col4\" class=\"data row25 col4\" >6.00%</td>\n",
       "      <td id=\"T_c3d92_row25_col5\" class=\"data row25 col5\" >7.00%</td>\n",
       "      <td id=\"T_c3d92_row25_col6\" class=\"data row25 col6\" >8.00%</td>\n",
       "      <td id=\"T_c3d92_row25_col7\" class=\"data row25 col7\" >7.00%</td>\n",
       "    </tr>\n",
       "    <tr>\n",
       "      <th id=\"T_c3d92_level0_row26\" class=\"row_heading level0 row26\" >2019-09-27</th>\n",
       "      <td id=\"T_c3d92_row26_col0\" class=\"data row26 col0\" >100.00%</td>\n",
       "      <td id=\"T_c3d92_row26_col1\" class=\"data row26 col1\" >2.00%</td>\n",
       "      <td id=\"T_c3d92_row26_col2\" class=\"data row26 col2\" >4.00%</td>\n",
       "      <td id=\"T_c3d92_row26_col3\" class=\"data row26 col3\" >6.00%</td>\n",
       "      <td id=\"T_c3d92_row26_col4\" class=\"data row26 col4\" >5.00%</td>\n",
       "      <td id=\"T_c3d92_row26_col5\" class=\"data row26 col5\" >7.00%</td>\n",
       "      <td id=\"T_c3d92_row26_col6\" class=\"data row26 col6\" >7.00%</td>\n",
       "      <td id=\"T_c3d92_row26_col7\" class=\"data row26 col7\" >5.00%</td>\n",
       "    </tr>\n",
       "    <tr>\n",
       "      <th id=\"T_c3d92_level0_row27\" class=\"row_heading level0 row27\" >2019-09-28</th>\n",
       "      <td id=\"T_c3d92_row27_col0\" class=\"data row27 col0\" >100.00%</td>\n",
       "      <td id=\"T_c3d92_row27_col1\" class=\"data row27 col1\" >2.00%</td>\n",
       "      <td id=\"T_c3d92_row27_col2\" class=\"data row27 col2\" >3.00%</td>\n",
       "      <td id=\"T_c3d92_row27_col3\" class=\"data row27 col3\" >4.00%</td>\n",
       "      <td id=\"T_c3d92_row27_col4\" class=\"data row27 col4\" >5.00%</td>\n",
       "      <td id=\"T_c3d92_row27_col5\" class=\"data row27 col5\" >6.00%</td>\n",
       "      <td id=\"T_c3d92_row27_col6\" class=\"data row27 col6\" >6.00%</td>\n",
       "      <td id=\"T_c3d92_row27_col7\" class=\"data row27 col7\" >6.00%</td>\n",
       "    </tr>\n",
       "    <tr>\n",
       "      <th id=\"T_c3d92_level0_row28\" class=\"row_heading level0 row28\" >2019-09-29</th>\n",
       "      <td id=\"T_c3d92_row28_col0\" class=\"data row28 col0\" >100.00%</td>\n",
       "      <td id=\"T_c3d92_row28_col1\" class=\"data row28 col1\" >2.00%</td>\n",
       "      <td id=\"T_c3d92_row28_col2\" class=\"data row28 col2\" >5.00%</td>\n",
       "      <td id=\"T_c3d92_row28_col3\" class=\"data row28 col3\" >4.00%</td>\n",
       "      <td id=\"T_c3d92_row28_col4\" class=\"data row28 col4\" >6.00%</td>\n",
       "      <td id=\"T_c3d92_row28_col5\" class=\"data row28 col5\" >6.00%</td>\n",
       "      <td id=\"T_c3d92_row28_col6\" class=\"data row28 col6\" >5.00%</td>\n",
       "      <td id=\"T_c3d92_row28_col7\" class=\"data row28 col7\" >6.00%</td>\n",
       "    </tr>\n",
       "    <tr>\n",
       "      <th id=\"T_c3d92_level0_row29\" class=\"row_heading level0 row29\" >2019-09-30</th>\n",
       "      <td id=\"T_c3d92_row29_col0\" class=\"data row29 col0\" >100.00%</td>\n",
       "      <td id=\"T_c3d92_row29_col1\" class=\"data row29 col1\" >2.00%</td>\n",
       "      <td id=\"T_c3d92_row29_col2\" class=\"data row29 col2\" >4.00%</td>\n",
       "      <td id=\"T_c3d92_row29_col3\" class=\"data row29 col3\" >4.00%</td>\n",
       "      <td id=\"T_c3d92_row29_col4\" class=\"data row29 col4\" >5.00%</td>\n",
       "      <td id=\"T_c3d92_row29_col5\" class=\"data row29 col5\" >6.00%</td>\n",
       "      <td id=\"T_c3d92_row29_col6\" class=\"data row29 col6\" >6.00%</td>\n",
       "      <td id=\"T_c3d92_row29_col7\" class=\"data row29 col7\" >7.00%</td>\n",
       "    </tr>\n",
       "    <tr>\n",
       "      <th id=\"T_c3d92_level0_row30\" class=\"row_heading level0 row30\" >2019-10-01</th>\n",
       "      <td id=\"T_c3d92_row30_col0\" class=\"data row30 col0\" >100.00%</td>\n",
       "      <td id=\"T_c3d92_row30_col1\" class=\"data row30 col1\" >3.00%</td>\n",
       "      <td id=\"T_c3d92_row30_col2\" class=\"data row30 col2\" >4.00%</td>\n",
       "      <td id=\"T_c3d92_row30_col3\" class=\"data row30 col3\" >4.00%</td>\n",
       "      <td id=\"T_c3d92_row30_col4\" class=\"data row30 col4\" >5.00%</td>\n",
       "      <td id=\"T_c3d92_row30_col5\" class=\"data row30 col5\" >6.00%</td>\n",
       "      <td id=\"T_c3d92_row30_col6\" class=\"data row30 col6\" >8.00%</td>\n",
       "      <td id=\"T_c3d92_row30_col7\" class=\"data row30 col7\" >5.00%</td>\n",
       "    </tr>\n",
       "  </tbody>\n",
       "</table>\n"
      ],
      "text/plain": [
       "<pandas.io.formats.style.Styler at 0x23281f78190>"
      ]
     },
     "execution_count": 42,
     "metadata": {},
     "output_type": "execute_result"
    }
   ],
   "source": [
    "# проверяем работу функции, считаем 7-day retention в период с 1.09.19 - 1.10.19\n",
    "calculate_retention(reg_df, auth_df, 7, 2019, 9, 1, 2019, 10, 1)"
   ]
  },
  {
   "cell_type": "code",
   "execution_count": 43,
   "id": "87a7e785",
   "metadata": {
    "scrolled": false
   },
   "outputs": [
    {
     "data": {
      "text/html": [
       "<style type=\"text/css\">\n",
       "#T_65efe_row0_col0, #T_65efe_row0_col5, #T_65efe_row0_col6, #T_65efe_row0_col8, #T_65efe_row0_col11, #T_65efe_row0_col12, #T_65efe_row0_col14, #T_65efe_row0_col17, #T_65efe_row0_col26, #T_65efe_row1_col0, #T_65efe_row1_col1, #T_65efe_row1_col2, #T_65efe_row1_col3, #T_65efe_row1_col4, #T_65efe_row1_col9, #T_65efe_row1_col10, #T_65efe_row1_col13, #T_65efe_row1_col15, #T_65efe_row1_col17, #T_65efe_row1_col21, #T_65efe_row1_col26, #T_65efe_row1_col28, #T_65efe_row2_col0, #T_65efe_row2_col2, #T_65efe_row2_col4, #T_65efe_row2_col8, #T_65efe_row2_col11, #T_65efe_row2_col12, #T_65efe_row2_col14, #T_65efe_row2_col26, #T_65efe_row2_col27, #T_65efe_row3_col0, #T_65efe_row3_col4, #T_65efe_row3_col7, #T_65efe_row3_col11, #T_65efe_row3_col13, #T_65efe_row3_col26, #T_65efe_row4_col0, #T_65efe_row4_col10, #T_65efe_row4_col11, #T_65efe_row4_col17, #T_65efe_row4_col25, #T_65efe_row4_col26, #T_65efe_row5_col0, #T_65efe_row5_col2, #T_65efe_row5_col3, #T_65efe_row5_col4, #T_65efe_row5_col8, #T_65efe_row5_col9, #T_65efe_row5_col11, #T_65efe_row5_col14, #T_65efe_row5_col16, #T_65efe_row5_col17, #T_65efe_row5_col24, #T_65efe_row5_col26, #T_65efe_row6_col0, #T_65efe_row6_col3, #T_65efe_row6_col4, #T_65efe_row6_col11, #T_65efe_row6_col13, #T_65efe_row6_col14, #T_65efe_row6_col17, #T_65efe_row6_col23, #T_65efe_row6_col26, #T_65efe_row7_col0, #T_65efe_row7_col3, #T_65efe_row7_col4, #T_65efe_row7_col8, #T_65efe_row7_col11, #T_65efe_row7_col14, #T_65efe_row7_col22, #T_65efe_row7_col26, #T_65efe_row8_col0, #T_65efe_row8_col9, #T_65efe_row8_col11, #T_65efe_row8_col13, #T_65efe_row8_col21, #T_65efe_row8_col26, #T_65efe_row9_col0, #T_65efe_row9_col20, #T_65efe_row9_col26, #T_65efe_row10_col0, #T_65efe_row10_col3, #T_65efe_row10_col4, #T_65efe_row10_col7, #T_65efe_row10_col9, #T_65efe_row10_col12, #T_65efe_row10_col14, #T_65efe_row10_col17, #T_65efe_row10_col19, #T_65efe_row10_col26, #T_65efe_row11_col0, #T_65efe_row11_col4, #T_65efe_row11_col7, #T_65efe_row11_col11, #T_65efe_row11_col18, #T_65efe_row11_col26 {\n",
       "  background-color: #f7fbff;\n",
       "  color: #000000;\n",
       "}\n",
       "#T_65efe_row0_col1, #T_65efe_row0_col2, #T_65efe_row0_col10, #T_65efe_row0_col13, #T_65efe_row0_col16, #T_65efe_row0_col18, #T_65efe_row0_col19, #T_65efe_row0_col21, #T_65efe_row1_col6, #T_65efe_row1_col8, #T_65efe_row1_col16, #T_65efe_row1_col18, #T_65efe_row1_col19, #T_65efe_row2_col1, #T_65efe_row2_col9, #T_65efe_row2_col10, #T_65efe_row2_col13, #T_65efe_row2_col16, #T_65efe_row2_col18, #T_65efe_row2_col19, #T_65efe_row3_col1, #T_65efe_row3_col9, #T_65efe_row3_col10, #T_65efe_row3_col18, #T_65efe_row3_col19, #T_65efe_row3_col21, #T_65efe_row4_col2, #T_65efe_row4_col6, #T_65efe_row4_col8, #T_65efe_row4_col13, #T_65efe_row4_col18, #T_65efe_row4_col19, #T_65efe_row4_col21, #T_65efe_row5_col1, #T_65efe_row5_col6, #T_65efe_row5_col10, #T_65efe_row5_col13, #T_65efe_row5_col15, #T_65efe_row5_col18, #T_65efe_row5_col19, #T_65efe_row5_col21, #T_65efe_row6_col1, #T_65efe_row6_col2, #T_65efe_row6_col6, #T_65efe_row6_col8, #T_65efe_row6_col9, #T_65efe_row6_col10, #T_65efe_row6_col18, #T_65efe_row6_col21, #T_65efe_row7_col1, #T_65efe_row7_col2, #T_65efe_row7_col9, #T_65efe_row7_col10, #T_65efe_row7_col13, #T_65efe_row7_col15, #T_65efe_row7_col16, #T_65efe_row7_col18, #T_65efe_row7_col19, #T_65efe_row7_col21, #T_65efe_row8_col2, #T_65efe_row8_col6, #T_65efe_row8_col8, #T_65efe_row8_col16, #T_65efe_row8_col18, #T_65efe_row8_col19, #T_65efe_row9_col1, #T_65efe_row9_col8, #T_65efe_row9_col16, #T_65efe_row10_col1, #T_65efe_row10_col2, #T_65efe_row10_col6, #T_65efe_row10_col8, #T_65efe_row11_col2, #T_65efe_row11_col6, #T_65efe_row11_col8, #T_65efe_row11_col9, #T_65efe_row11_col13, #T_65efe_row11_col16 {\n",
       "  background-color: #6aaed6;\n",
       "  color: #f1f1f1;\n",
       "}\n",
       "#T_65efe_row0_col3, #T_65efe_row0_col9, #T_65efe_row0_col15, #T_65efe_row0_col25, #T_65efe_row0_col27, #T_65efe_row0_col28, #T_65efe_row1_col11, #T_65efe_row1_col14, #T_65efe_row1_col27, #T_65efe_row2_col3, #T_65efe_row2_col15, #T_65efe_row2_col17, #T_65efe_row2_col21, #T_65efe_row2_col24, #T_65efe_row3_col2, #T_65efe_row3_col3, #T_65efe_row3_col8, #T_65efe_row3_col14, #T_65efe_row3_col15, #T_65efe_row3_col16, #T_65efe_row3_col17, #T_65efe_row3_col22, #T_65efe_row3_col23, #T_65efe_row3_col25, #T_65efe_row4_col1, #T_65efe_row4_col3, #T_65efe_row4_col9, #T_65efe_row4_col12, #T_65efe_row4_col14, #T_65efe_row4_col15, #T_65efe_row4_col16, #T_65efe_row4_col24, #T_65efe_row5_col23, #T_65efe_row6_col5, #T_65efe_row6_col7, #T_65efe_row6_col15, #T_65efe_row6_col16, #T_65efe_row6_col19, #T_65efe_row7_col17, #T_65efe_row8_col1, #T_65efe_row8_col3, #T_65efe_row8_col10, #T_65efe_row8_col14, #T_65efe_row8_col15, #T_65efe_row8_col17, #T_65efe_row8_col20, #T_65efe_row9_col2, #T_65efe_row9_col3, #T_65efe_row9_col4, #T_65efe_row9_col5, #T_65efe_row9_col6, #T_65efe_row9_col9, #T_65efe_row9_col10, #T_65efe_row9_col11, #T_65efe_row9_col13, #T_65efe_row9_col14, #T_65efe_row9_col15, #T_65efe_row9_col17, #T_65efe_row9_col18, #T_65efe_row9_col19, #T_65efe_row10_col10, #T_65efe_row10_col11, #T_65efe_row10_col13, #T_65efe_row10_col15, #T_65efe_row10_col16, #T_65efe_row10_col18, #T_65efe_row11_col1, #T_65efe_row11_col3, #T_65efe_row11_col10, #T_65efe_row11_col14, #T_65efe_row11_col15, #T_65efe_row11_col17 {\n",
       "  background-color: #08306b;\n",
       "  color: #f1f1f1;\n",
       "}\n",
       "#T_65efe_row0_col4, #T_65efe_row0_col7, #T_65efe_row0_col23, #T_65efe_row0_col24, #T_65efe_row1_col5, #T_65efe_row1_col7, #T_65efe_row1_col23, #T_65efe_row1_col24, #T_65efe_row1_col25, #T_65efe_row2_col5, #T_65efe_row2_col7, #T_65efe_row2_col23, #T_65efe_row2_col25, #T_65efe_row3_col5, #T_65efe_row3_col24, #T_65efe_row4_col4, #T_65efe_row4_col5, #T_65efe_row4_col7, #T_65efe_row4_col23, #T_65efe_row5_col5, #T_65efe_row5_col7, #T_65efe_row7_col5, #T_65efe_row7_col7, #T_65efe_row8_col4, #T_65efe_row8_col5, #T_65efe_row8_col7, #T_65efe_row9_col7, #T_65efe_row10_col5, #T_65efe_row11_col5 {\n",
       "  background-color: #6caed6;\n",
       "  color: #f1f1f1;\n",
       "}\n",
       "#T_65efe_row0_col20, #T_65efe_row0_col22, #T_65efe_row1_col20, #T_65efe_row1_col22, #T_65efe_row2_col20, #T_65efe_row3_col20, #T_65efe_row4_col22, #T_65efe_row5_col20, #T_65efe_row5_col22, #T_65efe_row7_col20, #T_65efe_row9_col12 {\n",
       "  background-color: #3787c0;\n",
       "  color: #f1f1f1;\n",
       "}\n",
       "#T_65efe_row1_col12, #T_65efe_row2_col22, #T_65efe_row3_col12, #T_65efe_row4_col20, #T_65efe_row5_col12, #T_65efe_row6_col12, #T_65efe_row6_col20, #T_65efe_row6_col22, #T_65efe_row7_col12, #T_65efe_row8_col12, #T_65efe_row11_col12 {\n",
       "  background-color: #abd0e6;\n",
       "  color: #000000;\n",
       "}\n",
       "#T_65efe_row2_col6, #T_65efe_row3_col6, #T_65efe_row7_col6 {\n",
       "  background-color: #c7dbef;\n",
       "  color: #000000;\n",
       "}\n",
       "#T_65efe_row2_col28, #T_65efe_row3_col27, #T_65efe_row3_col28, #T_65efe_row4_col27, #T_65efe_row4_col28, #T_65efe_row5_col25, #T_65efe_row5_col27, #T_65efe_row5_col28, #T_65efe_row6_col24, #T_65efe_row6_col25, #T_65efe_row6_col27, #T_65efe_row6_col28, #T_65efe_row7_col23, #T_65efe_row7_col24, #T_65efe_row7_col25, #T_65efe_row7_col27, #T_65efe_row7_col28, #T_65efe_row8_col22, #T_65efe_row8_col23, #T_65efe_row8_col24, #T_65efe_row8_col25, #T_65efe_row8_col27, #T_65efe_row8_col28, #T_65efe_row9_col21, #T_65efe_row9_col22, #T_65efe_row9_col23, #T_65efe_row9_col24, #T_65efe_row9_col25, #T_65efe_row9_col27, #T_65efe_row9_col28, #T_65efe_row10_col20, #T_65efe_row10_col21, #T_65efe_row10_col22, #T_65efe_row10_col23, #T_65efe_row10_col24, #T_65efe_row10_col25, #T_65efe_row10_col27, #T_65efe_row10_col28, #T_65efe_row11_col19, #T_65efe_row11_col20, #T_65efe_row11_col21, #T_65efe_row11_col22, #T_65efe_row11_col23, #T_65efe_row11_col24, #T_65efe_row11_col25, #T_65efe_row11_col27, #T_65efe_row11_col28 {\n",
       "  background-color: #000000;\n",
       "  color: #f1f1f1;\n",
       "}\n",
       "</style>\n",
       "<table id=\"T_65efe\">\n",
       "  <thead>\n",
       "    <tr>\n",
       "      <th class=\"index_name level0\" >days_after_reg</th>\n",
       "      <th id=\"T_65efe_level0_col0\" class=\"col_heading level0 col0\" >0 days 00:00:00</th>\n",
       "      <th id=\"T_65efe_level0_col1\" class=\"col_heading level0 col1\" >1 days 00:00:00</th>\n",
       "      <th id=\"T_65efe_level0_col2\" class=\"col_heading level0 col2\" >2 days 00:00:00</th>\n",
       "      <th id=\"T_65efe_level0_col3\" class=\"col_heading level0 col3\" >3 days 00:00:00</th>\n",
       "      <th id=\"T_65efe_level0_col4\" class=\"col_heading level0 col4\" >4 days 00:00:00</th>\n",
       "      <th id=\"T_65efe_level0_col5\" class=\"col_heading level0 col5\" >5 days 00:00:00</th>\n",
       "      <th id=\"T_65efe_level0_col6\" class=\"col_heading level0 col6\" >6 days 00:00:00</th>\n",
       "      <th id=\"T_65efe_level0_col7\" class=\"col_heading level0 col7\" >7 days 00:00:00</th>\n",
       "      <th id=\"T_65efe_level0_col8\" class=\"col_heading level0 col8\" >8 days 00:00:00</th>\n",
       "      <th id=\"T_65efe_level0_col9\" class=\"col_heading level0 col9\" >9 days 00:00:00</th>\n",
       "      <th id=\"T_65efe_level0_col10\" class=\"col_heading level0 col10\" >10 days 00:00:00</th>\n",
       "      <th id=\"T_65efe_level0_col11\" class=\"col_heading level0 col11\" >11 days 00:00:00</th>\n",
       "      <th id=\"T_65efe_level0_col12\" class=\"col_heading level0 col12\" >12 days 00:00:00</th>\n",
       "      <th id=\"T_65efe_level0_col13\" class=\"col_heading level0 col13\" >13 days 00:00:00</th>\n",
       "      <th id=\"T_65efe_level0_col14\" class=\"col_heading level0 col14\" >14 days 00:00:00</th>\n",
       "      <th id=\"T_65efe_level0_col15\" class=\"col_heading level0 col15\" >15 days 00:00:00</th>\n",
       "      <th id=\"T_65efe_level0_col16\" class=\"col_heading level0 col16\" >16 days 00:00:00</th>\n",
       "      <th id=\"T_65efe_level0_col17\" class=\"col_heading level0 col17\" >17 days 00:00:00</th>\n",
       "      <th id=\"T_65efe_level0_col18\" class=\"col_heading level0 col18\" >18 days 00:00:00</th>\n",
       "      <th id=\"T_65efe_level0_col19\" class=\"col_heading level0 col19\" >19 days 00:00:00</th>\n",
       "      <th id=\"T_65efe_level0_col20\" class=\"col_heading level0 col20\" >20 days 00:00:00</th>\n",
       "      <th id=\"T_65efe_level0_col21\" class=\"col_heading level0 col21\" >21 days 00:00:00</th>\n",
       "      <th id=\"T_65efe_level0_col22\" class=\"col_heading level0 col22\" >22 days 00:00:00</th>\n",
       "      <th id=\"T_65efe_level0_col23\" class=\"col_heading level0 col23\" >23 days 00:00:00</th>\n",
       "      <th id=\"T_65efe_level0_col24\" class=\"col_heading level0 col24\" >24 days 00:00:00</th>\n",
       "      <th id=\"T_65efe_level0_col25\" class=\"col_heading level0 col25\" >25 days 00:00:00</th>\n",
       "      <th id=\"T_65efe_level0_col26\" class=\"col_heading level0 col26\" >26 days 00:00:00</th>\n",
       "      <th id=\"T_65efe_level0_col27\" class=\"col_heading level0 col27\" >27 days 00:00:00</th>\n",
       "      <th id=\"T_65efe_level0_col28\" class=\"col_heading level0 col28\" >28 days 00:00:00</th>\n",
       "    </tr>\n",
       "    <tr>\n",
       "      <th class=\"index_name level0\" >reg_day</th>\n",
       "      <th class=\"blank col0\" >&nbsp;</th>\n",
       "      <th class=\"blank col1\" >&nbsp;</th>\n",
       "      <th class=\"blank col2\" >&nbsp;</th>\n",
       "      <th class=\"blank col3\" >&nbsp;</th>\n",
       "      <th class=\"blank col4\" >&nbsp;</th>\n",
       "      <th class=\"blank col5\" >&nbsp;</th>\n",
       "      <th class=\"blank col6\" >&nbsp;</th>\n",
       "      <th class=\"blank col7\" >&nbsp;</th>\n",
       "      <th class=\"blank col8\" >&nbsp;</th>\n",
       "      <th class=\"blank col9\" >&nbsp;</th>\n",
       "      <th class=\"blank col10\" >&nbsp;</th>\n",
       "      <th class=\"blank col11\" >&nbsp;</th>\n",
       "      <th class=\"blank col12\" >&nbsp;</th>\n",
       "      <th class=\"blank col13\" >&nbsp;</th>\n",
       "      <th class=\"blank col14\" >&nbsp;</th>\n",
       "      <th class=\"blank col15\" >&nbsp;</th>\n",
       "      <th class=\"blank col16\" >&nbsp;</th>\n",
       "      <th class=\"blank col17\" >&nbsp;</th>\n",
       "      <th class=\"blank col18\" >&nbsp;</th>\n",
       "      <th class=\"blank col19\" >&nbsp;</th>\n",
       "      <th class=\"blank col20\" >&nbsp;</th>\n",
       "      <th class=\"blank col21\" >&nbsp;</th>\n",
       "      <th class=\"blank col22\" >&nbsp;</th>\n",
       "      <th class=\"blank col23\" >&nbsp;</th>\n",
       "      <th class=\"blank col24\" >&nbsp;</th>\n",
       "      <th class=\"blank col25\" >&nbsp;</th>\n",
       "      <th class=\"blank col26\" >&nbsp;</th>\n",
       "      <th class=\"blank col27\" >&nbsp;</th>\n",
       "      <th class=\"blank col28\" >&nbsp;</th>\n",
       "    </tr>\n",
       "  </thead>\n",
       "  <tbody>\n",
       "    <tr>\n",
       "      <th id=\"T_65efe_level0_row0\" class=\"row_heading level0 row0\" >2020-08-25</th>\n",
       "      <td id=\"T_65efe_row0_col0\" class=\"data row0 col0\" >100.00%</td>\n",
       "      <td id=\"T_65efe_row0_col1\" class=\"data row0 col1\" >2.00%</td>\n",
       "      <td id=\"T_65efe_row0_col2\" class=\"data row0 col2\" >4.00%</td>\n",
       "      <td id=\"T_65efe_row0_col3\" class=\"data row0 col3\" >5.00%</td>\n",
       "      <td id=\"T_65efe_row0_col4\" class=\"data row0 col4\" >6.00%</td>\n",
       "      <td id=\"T_65efe_row0_col5\" class=\"data row0 col5\" >5.00%</td>\n",
       "      <td id=\"T_65efe_row0_col6\" class=\"data row0 col6\" >5.00%</td>\n",
       "      <td id=\"T_65efe_row0_col7\" class=\"data row0 col7\" >6.00%</td>\n",
       "      <td id=\"T_65efe_row0_col8\" class=\"data row0 col8\" >4.00%</td>\n",
       "      <td id=\"T_65efe_row0_col9\" class=\"data row0 col9\" >6.00%</td>\n",
       "      <td id=\"T_65efe_row0_col10\" class=\"data row0 col10\" >5.00%</td>\n",
       "      <td id=\"T_65efe_row0_col11\" class=\"data row0 col11\" >5.00%</td>\n",
       "      <td id=\"T_65efe_row0_col12\" class=\"data row0 col12\" >4.00%</td>\n",
       "      <td id=\"T_65efe_row0_col13\" class=\"data row0 col13\" >5.00%</td>\n",
       "      <td id=\"T_65efe_row0_col14\" class=\"data row0 col14\" >4.00%</td>\n",
       "      <td id=\"T_65efe_row0_col15\" class=\"data row0 col15\" >5.00%</td>\n",
       "      <td id=\"T_65efe_row0_col16\" class=\"data row0 col16\" >4.00%</td>\n",
       "      <td id=\"T_65efe_row0_col17\" class=\"data row0 col17\" >4.00%</td>\n",
       "      <td id=\"T_65efe_row0_col18\" class=\"data row0 col18\" >4.00%</td>\n",
       "      <td id=\"T_65efe_row0_col19\" class=\"data row0 col19\" >4.00%</td>\n",
       "      <td id=\"T_65efe_row0_col20\" class=\"data row0 col20\" >4.00%</td>\n",
       "      <td id=\"T_65efe_row0_col21\" class=\"data row0 col21\" >4.00%</td>\n",
       "      <td id=\"T_65efe_row0_col22\" class=\"data row0 col22\" >4.00%</td>\n",
       "      <td id=\"T_65efe_row0_col23\" class=\"data row0 col23\" >3.00%</td>\n",
       "      <td id=\"T_65efe_row0_col24\" class=\"data row0 col24\" >3.00%</td>\n",
       "      <td id=\"T_65efe_row0_col25\" class=\"data row0 col25\" >4.00%</td>\n",
       "      <td id=\"T_65efe_row0_col26\" class=\"data row0 col26\" >3.00%</td>\n",
       "      <td id=\"T_65efe_row0_col27\" class=\"data row0 col27\" >3.00%</td>\n",
       "      <td id=\"T_65efe_row0_col28\" class=\"data row0 col28\" >3.00%</td>\n",
       "    </tr>\n",
       "    <tr>\n",
       "      <th id=\"T_65efe_level0_row1\" class=\"row_heading level0 row1\" >2020-08-26</th>\n",
       "      <td id=\"T_65efe_row1_col0\" class=\"data row1 col0\" >100.00%</td>\n",
       "      <td id=\"T_65efe_row1_col1\" class=\"data row1 col1\" >1.00%</td>\n",
       "      <td id=\"T_65efe_row1_col2\" class=\"data row1 col2\" >3.00%</td>\n",
       "      <td id=\"T_65efe_row1_col3\" class=\"data row1 col3\" >4.00%</td>\n",
       "      <td id=\"T_65efe_row1_col4\" class=\"data row1 col4\" >5.00%</td>\n",
       "      <td id=\"T_65efe_row1_col5\" class=\"data row1 col5\" >6.00%</td>\n",
       "      <td id=\"T_65efe_row1_col6\" class=\"data row1 col6\" >7.00%</td>\n",
       "      <td id=\"T_65efe_row1_col7\" class=\"data row1 col7\" >6.00%</td>\n",
       "      <td id=\"T_65efe_row1_col8\" class=\"data row1 col8\" >5.00%</td>\n",
       "      <td id=\"T_65efe_row1_col9\" class=\"data row1 col9\" >4.00%</td>\n",
       "      <td id=\"T_65efe_row1_col10\" class=\"data row1 col10\" >4.00%</td>\n",
       "      <td id=\"T_65efe_row1_col11\" class=\"data row1 col11\" >6.00%</td>\n",
       "      <td id=\"T_65efe_row1_col12\" class=\"data row1 col12\" >5.00%</td>\n",
       "      <td id=\"T_65efe_row1_col13\" class=\"data row1 col13\" >4.00%</td>\n",
       "      <td id=\"T_65efe_row1_col14\" class=\"data row1 col14\" >5.00%</td>\n",
       "      <td id=\"T_65efe_row1_col15\" class=\"data row1 col15\" >3.00%</td>\n",
       "      <td id=\"T_65efe_row1_col16\" class=\"data row1 col16\" >4.00%</td>\n",
       "      <td id=\"T_65efe_row1_col17\" class=\"data row1 col17\" >4.00%</td>\n",
       "      <td id=\"T_65efe_row1_col18\" class=\"data row1 col18\" >4.00%</td>\n",
       "      <td id=\"T_65efe_row1_col19\" class=\"data row1 col19\" >4.00%</td>\n",
       "      <td id=\"T_65efe_row1_col20\" class=\"data row1 col20\" >4.00%</td>\n",
       "      <td id=\"T_65efe_row1_col21\" class=\"data row1 col21\" >3.00%</td>\n",
       "      <td id=\"T_65efe_row1_col22\" class=\"data row1 col22\" >4.00%</td>\n",
       "      <td id=\"T_65efe_row1_col23\" class=\"data row1 col23\" >3.00%</td>\n",
       "      <td id=\"T_65efe_row1_col24\" class=\"data row1 col24\" >3.00%</td>\n",
       "      <td id=\"T_65efe_row1_col25\" class=\"data row1 col25\" >3.00%</td>\n",
       "      <td id=\"T_65efe_row1_col26\" class=\"data row1 col26\" >3.00%</td>\n",
       "      <td id=\"T_65efe_row1_col27\" class=\"data row1 col27\" >3.00%</td>\n",
       "      <td id=\"T_65efe_row1_col28\" class=\"data row1 col28\" >2.00%</td>\n",
       "    </tr>\n",
       "    <tr>\n",
       "      <th id=\"T_65efe_level0_row2\" class=\"row_heading level0 row2\" >2020-08-27</th>\n",
       "      <td id=\"T_65efe_row2_col0\" class=\"data row2 col0\" >100.00%</td>\n",
       "      <td id=\"T_65efe_row2_col1\" class=\"data row2 col1\" >2.00%</td>\n",
       "      <td id=\"T_65efe_row2_col2\" class=\"data row2 col2\" >3.00%</td>\n",
       "      <td id=\"T_65efe_row2_col3\" class=\"data row2 col3\" >5.00%</td>\n",
       "      <td id=\"T_65efe_row2_col4\" class=\"data row2 col4\" >5.00%</td>\n",
       "      <td id=\"T_65efe_row2_col5\" class=\"data row2 col5\" >6.00%</td>\n",
       "      <td id=\"T_65efe_row2_col6\" class=\"data row2 col6\" >6.00%</td>\n",
       "      <td id=\"T_65efe_row2_col7\" class=\"data row2 col7\" >6.00%</td>\n",
       "      <td id=\"T_65efe_row2_col8\" class=\"data row2 col8\" >4.00%</td>\n",
       "      <td id=\"T_65efe_row2_col9\" class=\"data row2 col9\" >5.00%</td>\n",
       "      <td id=\"T_65efe_row2_col10\" class=\"data row2 col10\" >5.00%</td>\n",
       "      <td id=\"T_65efe_row2_col11\" class=\"data row2 col11\" >5.00%</td>\n",
       "      <td id=\"T_65efe_row2_col12\" class=\"data row2 col12\" >4.00%</td>\n",
       "      <td id=\"T_65efe_row2_col13\" class=\"data row2 col13\" >5.00%</td>\n",
       "      <td id=\"T_65efe_row2_col14\" class=\"data row2 col14\" >4.00%</td>\n",
       "      <td id=\"T_65efe_row2_col15\" class=\"data row2 col15\" >5.00%</td>\n",
       "      <td id=\"T_65efe_row2_col16\" class=\"data row2 col16\" >4.00%</td>\n",
       "      <td id=\"T_65efe_row2_col17\" class=\"data row2 col17\" >5.00%</td>\n",
       "      <td id=\"T_65efe_row2_col18\" class=\"data row2 col18\" >4.00%</td>\n",
       "      <td id=\"T_65efe_row2_col19\" class=\"data row2 col19\" >4.00%</td>\n",
       "      <td id=\"T_65efe_row2_col20\" class=\"data row2 col20\" >4.00%</td>\n",
       "      <td id=\"T_65efe_row2_col21\" class=\"data row2 col21\" >5.00%</td>\n",
       "      <td id=\"T_65efe_row2_col22\" class=\"data row2 col22\" >3.00%</td>\n",
       "      <td id=\"T_65efe_row2_col23\" class=\"data row2 col23\" >3.00%</td>\n",
       "      <td id=\"T_65efe_row2_col24\" class=\"data row2 col24\" >4.00%</td>\n",
       "      <td id=\"T_65efe_row2_col25\" class=\"data row2 col25\" >3.00%</td>\n",
       "      <td id=\"T_65efe_row2_col26\" class=\"data row2 col26\" >3.00%</td>\n",
       "      <td id=\"T_65efe_row2_col27\" class=\"data row2 col27\" >1.00%</td>\n",
       "      <td id=\"T_65efe_row2_col28\" class=\"data row2 col28\" ></td>\n",
       "    </tr>\n",
       "    <tr>\n",
       "      <th id=\"T_65efe_level0_row3\" class=\"row_heading level0 row3\" >2020-08-28</th>\n",
       "      <td id=\"T_65efe_row3_col0\" class=\"data row3 col0\" >100.00%</td>\n",
       "      <td id=\"T_65efe_row3_col1\" class=\"data row3 col1\" >2.00%</td>\n",
       "      <td id=\"T_65efe_row3_col2\" class=\"data row3 col2\" >5.00%</td>\n",
       "      <td id=\"T_65efe_row3_col3\" class=\"data row3 col3\" >5.00%</td>\n",
       "      <td id=\"T_65efe_row3_col4\" class=\"data row3 col4\" >5.00%</td>\n",
       "      <td id=\"T_65efe_row3_col5\" class=\"data row3 col5\" >6.00%</td>\n",
       "      <td id=\"T_65efe_row3_col6\" class=\"data row3 col6\" >6.00%</td>\n",
       "      <td id=\"T_65efe_row3_col7\" class=\"data row3 col7\" >5.00%</td>\n",
       "      <td id=\"T_65efe_row3_col8\" class=\"data row3 col8\" >6.00%</td>\n",
       "      <td id=\"T_65efe_row3_col9\" class=\"data row3 col9\" >5.00%</td>\n",
       "      <td id=\"T_65efe_row3_col10\" class=\"data row3 col10\" >5.00%</td>\n",
       "      <td id=\"T_65efe_row3_col11\" class=\"data row3 col11\" >5.00%</td>\n",
       "      <td id=\"T_65efe_row3_col12\" class=\"data row3 col12\" >5.00%</td>\n",
       "      <td id=\"T_65efe_row3_col13\" class=\"data row3 col13\" >4.00%</td>\n",
       "      <td id=\"T_65efe_row3_col14\" class=\"data row3 col14\" >5.00%</td>\n",
       "      <td id=\"T_65efe_row3_col15\" class=\"data row3 col15\" >5.00%</td>\n",
       "      <td id=\"T_65efe_row3_col16\" class=\"data row3 col16\" >5.00%</td>\n",
       "      <td id=\"T_65efe_row3_col17\" class=\"data row3 col17\" >5.00%</td>\n",
       "      <td id=\"T_65efe_row3_col18\" class=\"data row3 col18\" >4.00%</td>\n",
       "      <td id=\"T_65efe_row3_col19\" class=\"data row3 col19\" >4.00%</td>\n",
       "      <td id=\"T_65efe_row3_col20\" class=\"data row3 col20\" >4.00%</td>\n",
       "      <td id=\"T_65efe_row3_col21\" class=\"data row3 col21\" >4.00%</td>\n",
       "      <td id=\"T_65efe_row3_col22\" class=\"data row3 col22\" >5.00%</td>\n",
       "      <td id=\"T_65efe_row3_col23\" class=\"data row3 col23\" >4.00%</td>\n",
       "      <td id=\"T_65efe_row3_col24\" class=\"data row3 col24\" >3.00%</td>\n",
       "      <td id=\"T_65efe_row3_col25\" class=\"data row3 col25\" >4.00%</td>\n",
       "      <td id=\"T_65efe_row3_col26\" class=\"data row3 col26\" >3.00%</td>\n",
       "      <td id=\"T_65efe_row3_col27\" class=\"data row3 col27\" ></td>\n",
       "      <td id=\"T_65efe_row3_col28\" class=\"data row3 col28\" ></td>\n",
       "    </tr>\n",
       "    <tr>\n",
       "      <th id=\"T_65efe_level0_row4\" class=\"row_heading level0 row4\" >2020-08-29</th>\n",
       "      <td id=\"T_65efe_row4_col0\" class=\"data row4 col0\" >100.00%</td>\n",
       "      <td id=\"T_65efe_row4_col1\" class=\"data row4 col1\" >3.00%</td>\n",
       "      <td id=\"T_65efe_row4_col2\" class=\"data row4 col2\" >4.00%</td>\n",
       "      <td id=\"T_65efe_row4_col3\" class=\"data row4 col3\" >5.00%</td>\n",
       "      <td id=\"T_65efe_row4_col4\" class=\"data row4 col4\" >6.00%</td>\n",
       "      <td id=\"T_65efe_row4_col5\" class=\"data row4 col5\" >6.00%</td>\n",
       "      <td id=\"T_65efe_row4_col6\" class=\"data row4 col6\" >7.00%</td>\n",
       "      <td id=\"T_65efe_row4_col7\" class=\"data row4 col7\" >6.00%</td>\n",
       "      <td id=\"T_65efe_row4_col8\" class=\"data row4 col8\" >5.00%</td>\n",
       "      <td id=\"T_65efe_row4_col9\" class=\"data row4 col9\" >6.00%</td>\n",
       "      <td id=\"T_65efe_row4_col10\" class=\"data row4 col10\" >4.00%</td>\n",
       "      <td id=\"T_65efe_row4_col11\" class=\"data row4 col11\" >5.00%</td>\n",
       "      <td id=\"T_65efe_row4_col12\" class=\"data row4 col12\" >7.00%</td>\n",
       "      <td id=\"T_65efe_row4_col13\" class=\"data row4 col13\" >5.00%</td>\n",
       "      <td id=\"T_65efe_row4_col14\" class=\"data row4 col14\" >5.00%</td>\n",
       "      <td id=\"T_65efe_row4_col15\" class=\"data row4 col15\" >5.00%</td>\n",
       "      <td id=\"T_65efe_row4_col16\" class=\"data row4 col16\" >5.00%</td>\n",
       "      <td id=\"T_65efe_row4_col17\" class=\"data row4 col17\" >4.00%</td>\n",
       "      <td id=\"T_65efe_row4_col18\" class=\"data row4 col18\" >4.00%</td>\n",
       "      <td id=\"T_65efe_row4_col19\" class=\"data row4 col19\" >4.00%</td>\n",
       "      <td id=\"T_65efe_row4_col20\" class=\"data row4 col20\" >3.00%</td>\n",
       "      <td id=\"T_65efe_row4_col21\" class=\"data row4 col21\" >4.00%</td>\n",
       "      <td id=\"T_65efe_row4_col22\" class=\"data row4 col22\" >4.00%</td>\n",
       "      <td id=\"T_65efe_row4_col23\" class=\"data row4 col23\" >3.00%</td>\n",
       "      <td id=\"T_65efe_row4_col24\" class=\"data row4 col24\" >4.00%</td>\n",
       "      <td id=\"T_65efe_row4_col25\" class=\"data row4 col25\" >2.00%</td>\n",
       "      <td id=\"T_65efe_row4_col26\" class=\"data row4 col26\" ></td>\n",
       "      <td id=\"T_65efe_row4_col27\" class=\"data row4 col27\" ></td>\n",
       "      <td id=\"T_65efe_row4_col28\" class=\"data row4 col28\" ></td>\n",
       "    </tr>\n",
       "    <tr>\n",
       "      <th id=\"T_65efe_level0_row5\" class=\"row_heading level0 row5\" >2020-08-30</th>\n",
       "      <td id=\"T_65efe_row5_col0\" class=\"data row5 col0\" >100.00%</td>\n",
       "      <td id=\"T_65efe_row5_col1\" class=\"data row5 col1\" >2.00%</td>\n",
       "      <td id=\"T_65efe_row5_col2\" class=\"data row5 col2\" >3.00%</td>\n",
       "      <td id=\"T_65efe_row5_col3\" class=\"data row5 col3\" >4.00%</td>\n",
       "      <td id=\"T_65efe_row5_col4\" class=\"data row5 col4\" >5.00%</td>\n",
       "      <td id=\"T_65efe_row5_col5\" class=\"data row5 col5\" >6.00%</td>\n",
       "      <td id=\"T_65efe_row5_col6\" class=\"data row5 col6\" >7.00%</td>\n",
       "      <td id=\"T_65efe_row5_col7\" class=\"data row5 col7\" >6.00%</td>\n",
       "      <td id=\"T_65efe_row5_col8\" class=\"data row5 col8\" >4.00%</td>\n",
       "      <td id=\"T_65efe_row5_col9\" class=\"data row5 col9\" >4.00%</td>\n",
       "      <td id=\"T_65efe_row5_col10\" class=\"data row5 col10\" >5.00%</td>\n",
       "      <td id=\"T_65efe_row5_col11\" class=\"data row5 col11\" >5.00%</td>\n",
       "      <td id=\"T_65efe_row5_col12\" class=\"data row5 col12\" >5.00%</td>\n",
       "      <td id=\"T_65efe_row5_col13\" class=\"data row5 col13\" >5.00%</td>\n",
       "      <td id=\"T_65efe_row5_col14\" class=\"data row5 col14\" >4.00%</td>\n",
       "      <td id=\"T_65efe_row5_col15\" class=\"data row5 col15\" >4.00%</td>\n",
       "      <td id=\"T_65efe_row5_col16\" class=\"data row5 col16\" >3.00%</td>\n",
       "      <td id=\"T_65efe_row5_col17\" class=\"data row5 col17\" >4.00%</td>\n",
       "      <td id=\"T_65efe_row5_col18\" class=\"data row5 col18\" >4.00%</td>\n",
       "      <td id=\"T_65efe_row5_col19\" class=\"data row5 col19\" >4.00%</td>\n",
       "      <td id=\"T_65efe_row5_col20\" class=\"data row5 col20\" >4.00%</td>\n",
       "      <td id=\"T_65efe_row5_col21\" class=\"data row5 col21\" >4.00%</td>\n",
       "      <td id=\"T_65efe_row5_col22\" class=\"data row5 col22\" >4.00%</td>\n",
       "      <td id=\"T_65efe_row5_col23\" class=\"data row5 col23\" >4.00%</td>\n",
       "      <td id=\"T_65efe_row5_col24\" class=\"data row5 col24\" >2.00%</td>\n",
       "      <td id=\"T_65efe_row5_col25\" class=\"data row5 col25\" ></td>\n",
       "      <td id=\"T_65efe_row5_col26\" class=\"data row5 col26\" ></td>\n",
       "      <td id=\"T_65efe_row5_col27\" class=\"data row5 col27\" ></td>\n",
       "      <td id=\"T_65efe_row5_col28\" class=\"data row5 col28\" ></td>\n",
       "    </tr>\n",
       "    <tr>\n",
       "      <th id=\"T_65efe_level0_row6\" class=\"row_heading level0 row6\" >2020-08-31</th>\n",
       "      <td id=\"T_65efe_row6_col0\" class=\"data row6 col0\" >100.00%</td>\n",
       "      <td id=\"T_65efe_row6_col1\" class=\"data row6 col1\" >2.00%</td>\n",
       "      <td id=\"T_65efe_row6_col2\" class=\"data row6 col2\" >4.00%</td>\n",
       "      <td id=\"T_65efe_row6_col3\" class=\"data row6 col3\" >4.00%</td>\n",
       "      <td id=\"T_65efe_row6_col4\" class=\"data row6 col4\" >5.00%</td>\n",
       "      <td id=\"T_65efe_row6_col5\" class=\"data row6 col5\" >7.00%</td>\n",
       "      <td id=\"T_65efe_row6_col6\" class=\"data row6 col6\" >7.00%</td>\n",
       "      <td id=\"T_65efe_row6_col7\" class=\"data row6 col7\" >7.00%</td>\n",
       "      <td id=\"T_65efe_row6_col8\" class=\"data row6 col8\" >5.00%</td>\n",
       "      <td id=\"T_65efe_row6_col9\" class=\"data row6 col9\" >5.00%</td>\n",
       "      <td id=\"T_65efe_row6_col10\" class=\"data row6 col10\" >5.00%</td>\n",
       "      <td id=\"T_65efe_row6_col11\" class=\"data row6 col11\" >5.00%</td>\n",
       "      <td id=\"T_65efe_row6_col12\" class=\"data row6 col12\" >5.00%</td>\n",
       "      <td id=\"T_65efe_row6_col13\" class=\"data row6 col13\" >4.00%</td>\n",
       "      <td id=\"T_65efe_row6_col14\" class=\"data row6 col14\" >4.00%</td>\n",
       "      <td id=\"T_65efe_row6_col15\" class=\"data row6 col15\" >5.00%</td>\n",
       "      <td id=\"T_65efe_row6_col16\" class=\"data row6 col16\" >5.00%</td>\n",
       "      <td id=\"T_65efe_row6_col17\" class=\"data row6 col17\" >4.00%</td>\n",
       "      <td id=\"T_65efe_row6_col18\" class=\"data row6 col18\" >4.00%</td>\n",
       "      <td id=\"T_65efe_row6_col19\" class=\"data row6 col19\" >5.00%</td>\n",
       "      <td id=\"T_65efe_row6_col20\" class=\"data row6 col20\" >3.00%</td>\n",
       "      <td id=\"T_65efe_row6_col21\" class=\"data row6 col21\" >4.00%</td>\n",
       "      <td id=\"T_65efe_row6_col22\" class=\"data row6 col22\" >3.00%</td>\n",
       "      <td id=\"T_65efe_row6_col23\" class=\"data row6 col23\" >2.00%</td>\n",
       "      <td id=\"T_65efe_row6_col24\" class=\"data row6 col24\" ></td>\n",
       "      <td id=\"T_65efe_row6_col25\" class=\"data row6 col25\" ></td>\n",
       "      <td id=\"T_65efe_row6_col26\" class=\"data row6 col26\" ></td>\n",
       "      <td id=\"T_65efe_row6_col27\" class=\"data row6 col27\" ></td>\n",
       "      <td id=\"T_65efe_row6_col28\" class=\"data row6 col28\" ></td>\n",
       "    </tr>\n",
       "    <tr>\n",
       "      <th id=\"T_65efe_level0_row7\" class=\"row_heading level0 row7\" >2020-09-01</th>\n",
       "      <td id=\"T_65efe_row7_col0\" class=\"data row7 col0\" >100.00%</td>\n",
       "      <td id=\"T_65efe_row7_col1\" class=\"data row7 col1\" >2.00%</td>\n",
       "      <td id=\"T_65efe_row7_col2\" class=\"data row7 col2\" >4.00%</td>\n",
       "      <td id=\"T_65efe_row7_col3\" class=\"data row7 col3\" >4.00%</td>\n",
       "      <td id=\"T_65efe_row7_col4\" class=\"data row7 col4\" >5.00%</td>\n",
       "      <td id=\"T_65efe_row7_col5\" class=\"data row7 col5\" >6.00%</td>\n",
       "      <td id=\"T_65efe_row7_col6\" class=\"data row7 col6\" >6.00%</td>\n",
       "      <td id=\"T_65efe_row7_col7\" class=\"data row7 col7\" >6.00%</td>\n",
       "      <td id=\"T_65efe_row7_col8\" class=\"data row7 col8\" >4.00%</td>\n",
       "      <td id=\"T_65efe_row7_col9\" class=\"data row7 col9\" >5.00%</td>\n",
       "      <td id=\"T_65efe_row7_col10\" class=\"data row7 col10\" >5.00%</td>\n",
       "      <td id=\"T_65efe_row7_col11\" class=\"data row7 col11\" >5.00%</td>\n",
       "      <td id=\"T_65efe_row7_col12\" class=\"data row7 col12\" >5.00%</td>\n",
       "      <td id=\"T_65efe_row7_col13\" class=\"data row7 col13\" >5.00%</td>\n",
       "      <td id=\"T_65efe_row7_col14\" class=\"data row7 col14\" >4.00%</td>\n",
       "      <td id=\"T_65efe_row7_col15\" class=\"data row7 col15\" >4.00%</td>\n",
       "      <td id=\"T_65efe_row7_col16\" class=\"data row7 col16\" >4.00%</td>\n",
       "      <td id=\"T_65efe_row7_col17\" class=\"data row7 col17\" >5.00%</td>\n",
       "      <td id=\"T_65efe_row7_col18\" class=\"data row7 col18\" >4.00%</td>\n",
       "      <td id=\"T_65efe_row7_col19\" class=\"data row7 col19\" >4.00%</td>\n",
       "      <td id=\"T_65efe_row7_col20\" class=\"data row7 col20\" >4.00%</td>\n",
       "      <td id=\"T_65efe_row7_col21\" class=\"data row7 col21\" >4.00%</td>\n",
       "      <td id=\"T_65efe_row7_col22\" class=\"data row7 col22\" >2.00%</td>\n",
       "      <td id=\"T_65efe_row7_col23\" class=\"data row7 col23\" ></td>\n",
       "      <td id=\"T_65efe_row7_col24\" class=\"data row7 col24\" ></td>\n",
       "      <td id=\"T_65efe_row7_col25\" class=\"data row7 col25\" ></td>\n",
       "      <td id=\"T_65efe_row7_col26\" class=\"data row7 col26\" ></td>\n",
       "      <td id=\"T_65efe_row7_col27\" class=\"data row7 col27\" ></td>\n",
       "      <td id=\"T_65efe_row7_col28\" class=\"data row7 col28\" ></td>\n",
       "    </tr>\n",
       "    <tr>\n",
       "      <th id=\"T_65efe_level0_row8\" class=\"row_heading level0 row8\" >2020-09-02</th>\n",
       "      <td id=\"T_65efe_row8_col0\" class=\"data row8 col0\" >100.00%</td>\n",
       "      <td id=\"T_65efe_row8_col1\" class=\"data row8 col1\" >3.00%</td>\n",
       "      <td id=\"T_65efe_row8_col2\" class=\"data row8 col2\" >4.00%</td>\n",
       "      <td id=\"T_65efe_row8_col3\" class=\"data row8 col3\" >5.00%</td>\n",
       "      <td id=\"T_65efe_row8_col4\" class=\"data row8 col4\" >6.00%</td>\n",
       "      <td id=\"T_65efe_row8_col5\" class=\"data row8 col5\" >6.00%</td>\n",
       "      <td id=\"T_65efe_row8_col6\" class=\"data row8 col6\" >7.00%</td>\n",
       "      <td id=\"T_65efe_row8_col7\" class=\"data row8 col7\" >6.00%</td>\n",
       "      <td id=\"T_65efe_row8_col8\" class=\"data row8 col8\" >5.00%</td>\n",
       "      <td id=\"T_65efe_row8_col9\" class=\"data row8 col9\" >4.00%</td>\n",
       "      <td id=\"T_65efe_row8_col10\" class=\"data row8 col10\" >6.00%</td>\n",
       "      <td id=\"T_65efe_row8_col11\" class=\"data row8 col11\" >5.00%</td>\n",
       "      <td id=\"T_65efe_row8_col12\" class=\"data row8 col12\" >5.00%</td>\n",
       "      <td id=\"T_65efe_row8_col13\" class=\"data row8 col13\" >4.00%</td>\n",
       "      <td id=\"T_65efe_row8_col14\" class=\"data row8 col14\" >5.00%</td>\n",
       "      <td id=\"T_65efe_row8_col15\" class=\"data row8 col15\" >5.00%</td>\n",
       "      <td id=\"T_65efe_row8_col16\" class=\"data row8 col16\" >4.00%</td>\n",
       "      <td id=\"T_65efe_row8_col17\" class=\"data row8 col17\" >5.00%</td>\n",
       "      <td id=\"T_65efe_row8_col18\" class=\"data row8 col18\" >4.00%</td>\n",
       "      <td id=\"T_65efe_row8_col19\" class=\"data row8 col19\" >4.00%</td>\n",
       "      <td id=\"T_65efe_row8_col20\" class=\"data row8 col20\" >5.00%</td>\n",
       "      <td id=\"T_65efe_row8_col21\" class=\"data row8 col21\" >3.00%</td>\n",
       "      <td id=\"T_65efe_row8_col22\" class=\"data row8 col22\" ></td>\n",
       "      <td id=\"T_65efe_row8_col23\" class=\"data row8 col23\" ></td>\n",
       "      <td id=\"T_65efe_row8_col24\" class=\"data row8 col24\" ></td>\n",
       "      <td id=\"T_65efe_row8_col25\" class=\"data row8 col25\" ></td>\n",
       "      <td id=\"T_65efe_row8_col26\" class=\"data row8 col26\" ></td>\n",
       "      <td id=\"T_65efe_row8_col27\" class=\"data row8 col27\" ></td>\n",
       "      <td id=\"T_65efe_row8_col28\" class=\"data row8 col28\" ></td>\n",
       "    </tr>\n",
       "    <tr>\n",
       "      <th id=\"T_65efe_level0_row9\" class=\"row_heading level0 row9\" >2020-09-03</th>\n",
       "      <td id=\"T_65efe_row9_col0\" class=\"data row9 col0\" >100.00%</td>\n",
       "      <td id=\"T_65efe_row9_col1\" class=\"data row9 col1\" >2.00%</td>\n",
       "      <td id=\"T_65efe_row9_col2\" class=\"data row9 col2\" >5.00%</td>\n",
       "      <td id=\"T_65efe_row9_col3\" class=\"data row9 col3\" >5.00%</td>\n",
       "      <td id=\"T_65efe_row9_col4\" class=\"data row9 col4\" >7.00%</td>\n",
       "      <td id=\"T_65efe_row9_col5\" class=\"data row9 col5\" >7.00%</td>\n",
       "      <td id=\"T_65efe_row9_col6\" class=\"data row9 col6\" >9.00%</td>\n",
       "      <td id=\"T_65efe_row9_col7\" class=\"data row9 col7\" >6.00%</td>\n",
       "      <td id=\"T_65efe_row9_col8\" class=\"data row9 col8\" >5.00%</td>\n",
       "      <td id=\"T_65efe_row9_col9\" class=\"data row9 col9\" >6.00%</td>\n",
       "      <td id=\"T_65efe_row9_col10\" class=\"data row9 col10\" >6.00%</td>\n",
       "      <td id=\"T_65efe_row9_col11\" class=\"data row9 col11\" >6.00%</td>\n",
       "      <td id=\"T_65efe_row9_col12\" class=\"data row9 col12\" >6.00%</td>\n",
       "      <td id=\"T_65efe_row9_col13\" class=\"data row9 col13\" >6.00%</td>\n",
       "      <td id=\"T_65efe_row9_col14\" class=\"data row9 col14\" >5.00%</td>\n",
       "      <td id=\"T_65efe_row9_col15\" class=\"data row9 col15\" >5.00%</td>\n",
       "      <td id=\"T_65efe_row9_col16\" class=\"data row9 col16\" >4.00%</td>\n",
       "      <td id=\"T_65efe_row9_col17\" class=\"data row9 col17\" >5.00%</td>\n",
       "      <td id=\"T_65efe_row9_col18\" class=\"data row9 col18\" >5.00%</td>\n",
       "      <td id=\"T_65efe_row9_col19\" class=\"data row9 col19\" >5.00%</td>\n",
       "      <td id=\"T_65efe_row9_col20\" class=\"data row9 col20\" >2.00%</td>\n",
       "      <td id=\"T_65efe_row9_col21\" class=\"data row9 col21\" ></td>\n",
       "      <td id=\"T_65efe_row9_col22\" class=\"data row9 col22\" ></td>\n",
       "      <td id=\"T_65efe_row9_col23\" class=\"data row9 col23\" ></td>\n",
       "      <td id=\"T_65efe_row9_col24\" class=\"data row9 col24\" ></td>\n",
       "      <td id=\"T_65efe_row9_col25\" class=\"data row9 col25\" ></td>\n",
       "      <td id=\"T_65efe_row9_col26\" class=\"data row9 col26\" ></td>\n",
       "      <td id=\"T_65efe_row9_col27\" class=\"data row9 col27\" ></td>\n",
       "      <td id=\"T_65efe_row9_col28\" class=\"data row9 col28\" ></td>\n",
       "    </tr>\n",
       "    <tr>\n",
       "      <th id=\"T_65efe_level0_row10\" class=\"row_heading level0 row10\" >2020-09-04</th>\n",
       "      <td id=\"T_65efe_row10_col0\" class=\"data row10 col0\" >100.00%</td>\n",
       "      <td id=\"T_65efe_row10_col1\" class=\"data row10 col1\" >2.00%</td>\n",
       "      <td id=\"T_65efe_row10_col2\" class=\"data row10 col2\" >4.00%</td>\n",
       "      <td id=\"T_65efe_row10_col3\" class=\"data row10 col3\" >4.00%</td>\n",
       "      <td id=\"T_65efe_row10_col4\" class=\"data row10 col4\" >5.00%</td>\n",
       "      <td id=\"T_65efe_row10_col5\" class=\"data row10 col5\" >6.00%</td>\n",
       "      <td id=\"T_65efe_row10_col6\" class=\"data row10 col6\" >7.00%</td>\n",
       "      <td id=\"T_65efe_row10_col7\" class=\"data row10 col7\" >5.00%</td>\n",
       "      <td id=\"T_65efe_row10_col8\" class=\"data row10 col8\" >5.00%</td>\n",
       "      <td id=\"T_65efe_row10_col9\" class=\"data row10 col9\" >4.00%</td>\n",
       "      <td id=\"T_65efe_row10_col10\" class=\"data row10 col10\" >6.00%</td>\n",
       "      <td id=\"T_65efe_row10_col11\" class=\"data row10 col11\" >6.00%</td>\n",
       "      <td id=\"T_65efe_row10_col12\" class=\"data row10 col12\" >4.00%</td>\n",
       "      <td id=\"T_65efe_row10_col13\" class=\"data row10 col13\" >6.00%</td>\n",
       "      <td id=\"T_65efe_row10_col14\" class=\"data row10 col14\" >4.00%</td>\n",
       "      <td id=\"T_65efe_row10_col15\" class=\"data row10 col15\" >5.00%</td>\n",
       "      <td id=\"T_65efe_row10_col16\" class=\"data row10 col16\" >5.00%</td>\n",
       "      <td id=\"T_65efe_row10_col17\" class=\"data row10 col17\" >4.00%</td>\n",
       "      <td id=\"T_65efe_row10_col18\" class=\"data row10 col18\" >5.00%</td>\n",
       "      <td id=\"T_65efe_row10_col19\" class=\"data row10 col19\" >3.00%</td>\n",
       "      <td id=\"T_65efe_row10_col20\" class=\"data row10 col20\" ></td>\n",
       "      <td id=\"T_65efe_row10_col21\" class=\"data row10 col21\" ></td>\n",
       "      <td id=\"T_65efe_row10_col22\" class=\"data row10 col22\" ></td>\n",
       "      <td id=\"T_65efe_row10_col23\" class=\"data row10 col23\" ></td>\n",
       "      <td id=\"T_65efe_row10_col24\" class=\"data row10 col24\" ></td>\n",
       "      <td id=\"T_65efe_row10_col25\" class=\"data row10 col25\" ></td>\n",
       "      <td id=\"T_65efe_row10_col26\" class=\"data row10 col26\" ></td>\n",
       "      <td id=\"T_65efe_row10_col27\" class=\"data row10 col27\" ></td>\n",
       "      <td id=\"T_65efe_row10_col28\" class=\"data row10 col28\" ></td>\n",
       "    </tr>\n",
       "    <tr>\n",
       "      <th id=\"T_65efe_level0_row11\" class=\"row_heading level0 row11\" >2020-09-05</th>\n",
       "      <td id=\"T_65efe_row11_col0\" class=\"data row11 col0\" >100.00%</td>\n",
       "      <td id=\"T_65efe_row11_col1\" class=\"data row11 col1\" >3.00%</td>\n",
       "      <td id=\"T_65efe_row11_col2\" class=\"data row11 col2\" >4.00%</td>\n",
       "      <td id=\"T_65efe_row11_col3\" class=\"data row11 col3\" >5.00%</td>\n",
       "      <td id=\"T_65efe_row11_col4\" class=\"data row11 col4\" >5.00%</td>\n",
       "      <td id=\"T_65efe_row11_col5\" class=\"data row11 col5\" >6.00%</td>\n",
       "      <td id=\"T_65efe_row11_col6\" class=\"data row11 col6\" >7.00%</td>\n",
       "      <td id=\"T_65efe_row11_col7\" class=\"data row11 col7\" >5.00%</td>\n",
       "      <td id=\"T_65efe_row11_col8\" class=\"data row11 col8\" >5.00%</td>\n",
       "      <td id=\"T_65efe_row11_col9\" class=\"data row11 col9\" >5.00%</td>\n",
       "      <td id=\"T_65efe_row11_col10\" class=\"data row11 col10\" >6.00%</td>\n",
       "      <td id=\"T_65efe_row11_col11\" class=\"data row11 col11\" >5.00%</td>\n",
       "      <td id=\"T_65efe_row11_col12\" class=\"data row11 col12\" >5.00%</td>\n",
       "      <td id=\"T_65efe_row11_col13\" class=\"data row11 col13\" >5.00%</td>\n",
       "      <td id=\"T_65efe_row11_col14\" class=\"data row11 col14\" >5.00%</td>\n",
       "      <td id=\"T_65efe_row11_col15\" class=\"data row11 col15\" >5.00%</td>\n",
       "      <td id=\"T_65efe_row11_col16\" class=\"data row11 col16\" >4.00%</td>\n",
       "      <td id=\"T_65efe_row11_col17\" class=\"data row11 col17\" >5.00%</td>\n",
       "      <td id=\"T_65efe_row11_col18\" class=\"data row11 col18\" >3.00%</td>\n",
       "      <td id=\"T_65efe_row11_col19\" class=\"data row11 col19\" ></td>\n",
       "      <td id=\"T_65efe_row11_col20\" class=\"data row11 col20\" ></td>\n",
       "      <td id=\"T_65efe_row11_col21\" class=\"data row11 col21\" ></td>\n",
       "      <td id=\"T_65efe_row11_col22\" class=\"data row11 col22\" ></td>\n",
       "      <td id=\"T_65efe_row11_col23\" class=\"data row11 col23\" ></td>\n",
       "      <td id=\"T_65efe_row11_col24\" class=\"data row11 col24\" ></td>\n",
       "      <td id=\"T_65efe_row11_col25\" class=\"data row11 col25\" ></td>\n",
       "      <td id=\"T_65efe_row11_col26\" class=\"data row11 col26\" ></td>\n",
       "      <td id=\"T_65efe_row11_col27\" class=\"data row11 col27\" ></td>\n",
       "      <td id=\"T_65efe_row11_col28\" class=\"data row11 col28\" ></td>\n",
       "    </tr>\n",
       "  </tbody>\n",
       "</table>\n"
      ],
      "text/plain": [
       "<pandas.io.formats.style.Styler at 0x232f9e46fa0>"
      ]
     },
     "execution_count": 43,
     "metadata": {},
     "output_type": "execute_result"
    }
   ],
   "source": [
    "# 28-day retention в период с 25.08.20 - 05.09.20\n",
    "calculate_retention(reg_df, auth_df, 28, 2020, 8, 25, 2020, 9, 5)"
   ]
  },
  {
   "cell_type": "markdown",
   "id": "26ddf9c5",
   "metadata": {},
   "source": [
    "Функция позволяет посмотреть retention в любой нужный нам период, и уже после можно провести анализ возвращаемости. \n",
    "\n",
    "Вывод, который можно сделать относительно пользователей и их вовлеченности именно в этой игре таков: показатель retention в целом довольно низкий с самого первого дня. Очень маленький процент пользователей возвращается в игру после регистрации. Стоит сильно задуматься над тем, как удерживать игроков, например, присылать ненавязчивые уведомления, поработать над обратной связью, узнать, что нравится или не нравится игрокам, постараться улучшить контент, чтобы игроки хотели чаще заходить в игру, а если там есть внутриигровая валюта, сделать небольшой подарок или бонус за вход в игру, проводить внутриигровые ивенты с различными призами и так далее. \n"
   ]
  },
  {
   "cell_type": "markdown",
   "id": "43042040",
   "metadata": {},
   "source": [
    "# ЗАДАНИЕ 2:"
   ]
  },
  {
   "cell_type": "markdown",
   "id": "8a191b1b",
   "metadata": {},
   "source": [
    "Имеются результаты A/B теста, в котором двум группам пользователей предлагались различные наборы акционных предложений. Известно, что ARPU в тестовой группе выше на 5%, чем в контрольной. При этом в контрольной группе 1928 игроков из 202103 оказались платящими, а в тестовой – 1805 из 202667.\n",
    "\n",
    "Какой набор предложений можно считать лучшим? Какие метрики стоит проанализировать для принятия правильного решения и как?"
   ]
  },
  {
   "cell_type": "code",
   "execution_count": 44,
   "id": "803ed686",
   "metadata": {},
   "outputs": [],
   "source": [
    "# считаем данные\n",
    "df = pd.read_csv('D:/jupyter_notebook/final_project/final_project_task_2.csv', sep=';')"
   ]
  },
  {
   "cell_type": "code",
   "execution_count": 45,
   "id": "6564939f",
   "metadata": {},
   "outputs": [],
   "source": [
    "# для удобства разделим данные на контрольную и тестовую группу\n",
    "control = df[df.testgroup == 'a']\n",
    "test = df[df.testgroup == 'b']"
   ]
  },
  {
   "cell_type": "code",
   "execution_count": 46,
   "id": "1e331b0f",
   "metadata": {},
   "outputs": [
    {
     "data": {
      "text/html": [
       "<div>\n",
       "<style scoped>\n",
       "    .dataframe tbody tr th:only-of-type {\n",
       "        vertical-align: middle;\n",
       "    }\n",
       "\n",
       "    .dataframe tbody tr th {\n",
       "        vertical-align: top;\n",
       "    }\n",
       "\n",
       "    .dataframe thead th {\n",
       "        text-align: right;\n",
       "    }\n",
       "</style>\n",
       "<table border=\"1\" class=\"dataframe\">\n",
       "  <thead>\n",
       "    <tr style=\"text-align: right;\">\n",
       "      <th></th>\n",
       "      <th>user_id</th>\n",
       "      <th>revenue</th>\n",
       "      <th>testgroup</th>\n",
       "    </tr>\n",
       "  </thead>\n",
       "  <tbody>\n",
       "    <tr>\n",
       "      <th>1</th>\n",
       "      <td>2</td>\n",
       "      <td>0</td>\n",
       "      <td>a</td>\n",
       "    </tr>\n",
       "    <tr>\n",
       "      <th>2</th>\n",
       "      <td>3</td>\n",
       "      <td>0</td>\n",
       "      <td>a</td>\n",
       "    </tr>\n",
       "    <tr>\n",
       "      <th>9</th>\n",
       "      <td>10</td>\n",
       "      <td>0</td>\n",
       "      <td>a</td>\n",
       "    </tr>\n",
       "    <tr>\n",
       "      <th>10</th>\n",
       "      <td>11</td>\n",
       "      <td>0</td>\n",
       "      <td>a</td>\n",
       "    </tr>\n",
       "    <tr>\n",
       "      <th>11</th>\n",
       "      <td>12</td>\n",
       "      <td>0</td>\n",
       "      <td>a</td>\n",
       "    </tr>\n",
       "  </tbody>\n",
       "</table>\n",
       "</div>"
      ],
      "text/plain": [
       "    user_id  revenue testgroup\n",
       "1         2        0         a\n",
       "2         3        0         a\n",
       "9        10        0         a\n",
       "10       11        0         a\n",
       "11       12        0         a"
      ]
     },
     "execution_count": 46,
     "metadata": {},
     "output_type": "execute_result"
    }
   ],
   "source": [
    "# посмотрим на данные, имеется user_id, выручка на каждого пользователя,\n",
    "# а также разделение на группы\n",
    "control.head()"
   ]
  },
  {
   "cell_type": "code",
   "execution_count": 47,
   "id": "b76ce0a2",
   "metadata": {},
   "outputs": [
    {
     "data": {
      "text/html": [
       "<div>\n",
       "<style scoped>\n",
       "    .dataframe tbody tr th:only-of-type {\n",
       "        vertical-align: middle;\n",
       "    }\n",
       "\n",
       "    .dataframe tbody tr th {\n",
       "        vertical-align: top;\n",
       "    }\n",
       "\n",
       "    .dataframe thead th {\n",
       "        text-align: right;\n",
       "    }\n",
       "</style>\n",
       "<table border=\"1\" class=\"dataframe\">\n",
       "  <thead>\n",
       "    <tr style=\"text-align: right;\">\n",
       "      <th></th>\n",
       "      <th>user_id</th>\n",
       "      <th>revenue</th>\n",
       "      <th>testgroup</th>\n",
       "    </tr>\n",
       "  </thead>\n",
       "  <tbody>\n",
       "    <tr>\n",
       "      <th>0</th>\n",
       "      <td>1</td>\n",
       "      <td>0</td>\n",
       "      <td>b</td>\n",
       "    </tr>\n",
       "    <tr>\n",
       "      <th>3</th>\n",
       "      <td>4</td>\n",
       "      <td>0</td>\n",
       "      <td>b</td>\n",
       "    </tr>\n",
       "    <tr>\n",
       "      <th>4</th>\n",
       "      <td>5</td>\n",
       "      <td>0</td>\n",
       "      <td>b</td>\n",
       "    </tr>\n",
       "    <tr>\n",
       "      <th>5</th>\n",
       "      <td>6</td>\n",
       "      <td>0</td>\n",
       "      <td>b</td>\n",
       "    </tr>\n",
       "    <tr>\n",
       "      <th>6</th>\n",
       "      <td>7</td>\n",
       "      <td>0</td>\n",
       "      <td>b</td>\n",
       "    </tr>\n",
       "  </tbody>\n",
       "</table>\n",
       "</div>"
      ],
      "text/plain": [
       "   user_id  revenue testgroup\n",
       "0        1        0         b\n",
       "3        4        0         b\n",
       "4        5        0         b\n",
       "5        6        0         b\n",
       "6        7        0         b"
      ]
     },
     "execution_count": 47,
     "metadata": {},
     "output_type": "execute_result"
    }
   ],
   "source": [
    "test.head()"
   ]
  },
  {
   "cell_type": "markdown",
   "id": "e00ca104",
   "metadata": {},
   "source": [
    "Прежде, чем делать анализировать результаты АБ-теста, проверим показатели из условия."
   ]
  },
  {
   "cell_type": "code",
   "execution_count": 48,
   "id": "f3f42bb5",
   "metadata": {},
   "outputs": [
    {
     "data": {
      "text/plain": [
       "25.413719736965806"
      ]
     },
     "execution_count": 48,
     "metadata": {},
     "output_type": "execute_result"
    }
   ],
   "source": [
    "# расчитаем ARPU в контрольной группе\n",
    "arpu_control = control.groupby('testgroup').revenue.mean().values[0]\n",
    "arpu_control"
   ]
  },
  {
   "cell_type": "code",
   "execution_count": 49,
   "id": "15b26a99",
   "metadata": {},
   "outputs": [
    {
     "data": {
      "text/plain": [
       "26.75128659327863"
      ]
     },
     "execution_count": 49,
     "metadata": {},
     "output_type": "execute_result"
    }
   ],
   "source": [
    "# расчитаем ARPU в тестовой группе\n",
    "arpu_test = test.groupby('testgroup').revenue.mean().values[0]\n",
    "arpu_test"
   ]
  },
  {
   "cell_type": "code",
   "execution_count": 50,
   "id": "049127a9",
   "metadata": {},
   "outputs": [
    {
     "data": {
      "text/plain": [
       "5.000009444962146"
      ]
     },
     "execution_count": 50,
     "metadata": {},
     "output_type": "execute_result"
    }
   ],
   "source": [
    "100 - (arpu_control / arpu_test * 100)"
   ]
  },
  {
   "cell_type": "markdown",
   "id": "dfcfa38e",
   "metadata": {},
   "source": [
    "Действительно, ARPU в тестовой группе больше на 5%. Теперь посмотрим общую выручку в обеих группах."
   ]
  },
  {
   "cell_type": "code",
   "execution_count": 51,
   "id": "78deb577",
   "metadata": {},
   "outputs": [
    {
     "data": {
      "text/plain": [
       "5136189"
      ]
     },
     "execution_count": 51,
     "metadata": {},
     "output_type": "execute_result"
    }
   ],
   "source": [
    "# выручка в контрольной группе\n",
    "control.groupby('testgroup').revenue.sum().values[0]"
   ]
  },
  {
   "cell_type": "code",
   "execution_count": 52,
   "id": "6a7938a4",
   "metadata": {},
   "outputs": [
    {
     "data": {
      "text/plain": [
       "5421603"
      ]
     },
     "execution_count": 52,
     "metadata": {},
     "output_type": "execute_result"
    }
   ],
   "source": [
    "# выручка в тестовой группе\n",
    "test.groupby('testgroup').revenue.sum().values[0]"
   ]
  },
  {
   "cell_type": "markdown",
   "id": "aae7c676",
   "metadata": {},
   "source": [
    "Теперь взглянем на количество платящих пользователей."
   ]
  },
  {
   "cell_type": "code",
   "execution_count": 53,
   "id": "d356e9c5",
   "metadata": {},
   "outputs": [
    {
     "data": {
      "text/plain": [
       "1928"
      ]
     },
     "execution_count": 53,
     "metadata": {},
     "output_type": "execute_result"
    }
   ],
   "source": [
    "# количество платящих пользователей в контрольной группе\n",
    "control[control.revenue > 0].shape[0]"
   ]
  },
  {
   "cell_type": "code",
   "execution_count": 54,
   "id": "db6a5213",
   "metadata": {},
   "outputs": [
    {
     "data": {
      "text/plain": [
       "1805"
      ]
     },
     "execution_count": 54,
     "metadata": {},
     "output_type": "execute_result"
    }
   ],
   "source": [
    "# количество платящих пользователей в тестовой группе\n",
    "test[test.revenue > 0].shape[0]"
   ]
  },
  {
   "cell_type": "markdown",
   "id": "edd69d54",
   "metadata": {},
   "source": [
    "Теперь, когда мы посмотрели все показатели из условия, следует проанализировать результаты. Для начала посмотрим на среднюю выручку на платящего пользователя."
   ]
  },
  {
   "cell_type": "code",
   "execution_count": 55,
   "id": "157ab0d4",
   "metadata": {},
   "outputs": [
    {
     "data": {
      "text/plain": [
       "2663.9984439834025"
      ]
     },
     "execution_count": 55,
     "metadata": {},
     "output_type": "execute_result"
    }
   ],
   "source": [
    "# ARPPU в контрольной группе\n",
    "arppu_control = control[control.revenue > 0].groupby('testgroup').agg({'revenue': 'mean'}).values[0][0]\n",
    "arppu_control"
   ]
  },
  {
   "cell_type": "code",
   "execution_count": 56,
   "id": "585e0cc6",
   "metadata": {},
   "outputs": [
    {
     "data": {
      "text/plain": [
       "3003.6581717451522"
      ]
     },
     "execution_count": 56,
     "metadata": {},
     "output_type": "execute_result"
    }
   ],
   "source": [
    "# ARPPU в тестовой группе\n",
    "arppu_test = test[test.revenue > 0].groupby('testgroup').agg({'revenue': 'mean'}).values[0][0]\n",
    "arppu_test"
   ]
  },
  {
   "cell_type": "code",
   "execution_count": 57,
   "id": "3a9b79b3",
   "metadata": {},
   "outputs": [
    {
     "data": {
      "text/plain": [
       "11.308201810607642"
      ]
     },
     "execution_count": 57,
     "metadata": {},
     "output_type": "execute_result"
    }
   ],
   "source": [
    "100 - (arppu_control / arppu_test * 100)"
   ]
  },
  {
   "cell_type": "markdown",
   "id": "79f51150",
   "metadata": {},
   "source": [
    "ARPPU в тестовой группе больше на ~11%. \n",
    "\n",
    "Теперь нужно понять, какой статистический критерий выбрать для анализа результатов АБ-теста, и понять, различаются ли две группы статистически значимо, или это просто случайные различия.\n",
    "Как мне кажется, нужно проанализировать не только все распределение, но и распределение платящих пользователей отдельно, чтобы понять, как влияют акционные предложение на них отдельно.\n",
    "\n",
    "Для начала посмотрим на гистрограмму распределений, чтобы понять, какие распределения у нас есть, есть ли там выбросы, близки ли они к нормальным и так далее."
   ]
  },
  {
   "cell_type": "code",
   "execution_count": 58,
   "id": "1e8adbed",
   "metadata": {},
   "outputs": [
    {
     "data": {
      "image/png": "[encoded data removed]",
      "text/plain": [
       "<Figure size 432x288 with 2 Axes>"
      ]
     },
     "metadata": {
      "needs_background": "light"
     },
     "output_type": "display_data"
    }
   ],
   "source": [
    "fig, (ax1, ax2) = plt.subplots(1, 2, sharex=False)\n",
    "\n",
    "ax2.hist(test.revenue)\n",
    "ax1.hist(control.revenue)\n",
    "\n",
    "plt.text(.8, 1, 'Test', transform=fig.transFigure, horizontalalignment='right')\n",
    "plt.text(.2, 1, 'Control', transform=fig.transFigure, horizontalalignment='left')\n",
    "\n",
    "plt.show()"
   ]
  },
  {
   "cell_type": "markdown",
   "id": "2aad8a0a",
   "metadata": {},
   "source": [
    "Итак, сразу видно, что распределение явно ненормальное, с выбросами, но графики в этом случае не совсем показательны. Воспользуемся критерием Шапиро-Уилка для проверки распределений на нормальность, предварительно взяв рандомные сэмплы из выборок, так как тест Шапиро-Уилка плохо работает на больших данных."
   ]
  },
  {
   "cell_type": "code",
   "execution_count": 59,
   "id": "9c641791",
   "metadata": {},
   "outputs": [
    {
     "data": {
      "text/plain": [
       "ShapiroResult(statistic=0.06614720821380615, pvalue=0.0)"
      ]
     },
     "execution_count": 59,
     "metadata": {},
     "output_type": "execute_result"
    }
   ],
   "source": [
    "ss.shapiro(control.revenue.sample(1000, random_state=17))"
   ]
  },
  {
   "cell_type": "code",
   "execution_count": 60,
   "id": "155a1f99",
   "metadata": {},
   "outputs": [
    {
     "data": {
      "text/plain": [
       "ShapiroResult(statistic=0.06715953350067139, pvalue=0.0)"
      ]
     },
     "execution_count": 60,
     "metadata": {},
     "output_type": "execute_result"
    }
   ],
   "source": [
    "ss.shapiro(test.revenue.sample(1000, random_state=17))"
   ]
  },
  {
   "cell_type": "markdown",
   "id": "7a2560dc",
   "metadata": {},
   "source": [
    "Теперь мы окончаельно убедились, что распределение ненормальное, с выбросами(p-value в тесте Шапиро-Уилка говорит о том, что наше распределение стат. значимо отличается от нормального распределения). \n",
    "\n",
    "Настало время выбрать необходимый стат. критерий. В нашем случае нам подойдет непараметрический критерий Манна-Уитни, который будет сравнивать ранговые значения в выборках.\n",
    " "
   ]
  },
  {
   "cell_type": "code",
   "execution_count": 61,
   "id": "731d8c28",
   "metadata": {},
   "outputs": [
    {
     "data": {
      "text/plain": [
       "0.06269701316074398"
      ]
     },
     "execution_count": 61,
     "metadata": {},
     "output_type": "execute_result"
    }
   ],
   "source": [
    "ss.mannwhitneyu(control.revenue, test.revenue).pvalue"
   ]
  },
  {
   "cell_type": "markdown",
   "id": "cb0e8a37",
   "metadata": {},
   "source": [
    "Итак, p-уровень значимости оказался больше 0.05, что говорит нам о том, что стат. значимых различий в этих группах не наблюдается. \n",
    "\n",
    "Но мы пойдем немного дальше, и также посомтрим на только платящих пользователей, и проверим, есть ли стат. значимые различия в этих группах.\n",
    "\n",
    "Для начала также построим графики, посмотрим на распределения(хотя вряд ли они нам что-то скажут)."
   ]
  },
  {
   "cell_type": "code",
   "execution_count": 62,
   "id": "38537ecd",
   "metadata": {},
   "outputs": [
    {
     "data": {
      "image/png": "[encoded data removed]",
      "text/plain": [
       "<Figure size 432x288 with 2 Axes>"
      ]
     },
     "metadata": {
      "needs_background": "light"
     },
     "output_type": "display_data"
    }
   ],
   "source": [
    "fig, (ax3, ax4) = plt.subplots(1, 2, sharex=False)\n",
    "\n",
    "ax3.hist(control[control.revenue > 0].revenue)\n",
    "ax4.hist(test[test.revenue > 0].revenue)\n",
    "\n",
    "plt.text(.8, 1, 'Test', transform=fig.transFigure, horizontalalignment='right')\n",
    "plt.text(.2, 1, 'Control', transform=fig.transFigure, horizontalalignment='left')\n",
    "\n",
    "plt.show()"
   ]
  },
  {
   "cell_type": "markdown",
   "id": "7872ddcb",
   "metadata": {},
   "source": [
    "В контрольной группе заметны выбросы, тогда как в тестовой распределение более равномерно. Можно выдвинуть предположение, что группы неравномерны, и сравнивать их друг другом не имеет смысла, но.....мы этого делать не будем :) И продолжим исследование."
   ]
  },
  {
   "cell_type": "markdown",
   "id": "85117006",
   "metadata": {},
   "source": [
    "Теперь есть смысл посмотреть, есть ли различия между этими пользователями. \n",
    "Для этого воспользуемся бутстрэпом. Бутстрэп - это стат.метод, который основан на многократном извлечении бут-выборок(выборки с возвращением) из имеющейся выборки(метод Монте-Карло).\n",
    "\n",
    "Для начала посмотрим на гистограмму бут выборок, а также на p-уровень значимости. Сравнивать будем медианные значения, потому как в данных есть много выбросов, и бутстрэп для сравнения средних сильно чувствителен к выбросам, и может исказить выводы, и возрастает вероятность ошибки первого рода( мы отклонили нулевую гипотезу, когда различий на самом деле нет). Поэтому будем сравнивать медианы."
   ]
  },
  {
   "cell_type": "code",
   "execution_count": 63,
   "id": "72846980",
   "metadata": {},
   "outputs": [],
   "source": [
    "# обозначаем функию(две выборки, колчество бут-выборок, статистика, уровень значимости)\n",
    "def get_bootstrap(df_data_1, df_data_2, boot_it = 1000, statistic = np.mean, conf_level = 0.95):\n",
    "    \n",
    "    # считаем размер бут-выборок     \n",
    "    boot_len = max([len(df_data_1), len(df_data_2)])\n",
    "    boot_data = []\n",
    "    \n",
    "    for i in range(boot_it): \n",
    "        # делаем два семпла из выборок, с возвращением        \n",
    "        samples_1 = df_data_1.sample(boot_len, replace = True).values\n",
    "        samples_2 = df_data_2.sample(boot_len, replace = True).values\n",
    "        \n",
    "        # добавляем в бут-дату среднее или медианное значение разности сэмплов\n",
    "        boot_data.append(statistic(samples_1 - samples_2))\n",
    "        \n",
    "    pd_boot_data = pd.DataFrame(boot_data)\n",
    "    \n",
    "    # находим доверительный интревал для разности медиан\\средних\\любой статистики         \n",
    "    left_quant = (1 - conf_level)/2\n",
    "    right_quant = 1 - (1 - conf_level) / 2\n",
    "    ci = pd_boot_data.quantile([left_quant, right_quant])\n",
    "        \n",
    "    \n",
    "    # находим уровень значимости     \n",
    "    p_1 = ss.norm.cdf(x = 0, loc = np.mean(boot_data), scale = np.std(boot_data))\n",
    "    p_2 = ss.norm.cdf(x = 0, loc = -np.mean(boot_data), scale = np.std(boot_data))\n",
    "    p_value = min(p_1, p_2) * 2\n",
    "        \n",
    "    # визуализируем бут-дату\n",
    "    plt.hist(pd_boot_data[0], bins = 50, color='lightblue')\n",
    "    plt.style.use('ggplot')\n",
    "    plt.vlines(ci,ymin=0,ymax=75,linestyle='dotted', colors='r')\n",
    "    plt.xlabel('Бут дата')\n",
    "    plt.ylabel('Частота')\n",
    "    plt.title(\"Гистограмма Бутстрэп Выборок\")\n",
    "    plt.show()\n",
    "       \n",
    "    return {\"boot_data\": boot_data, \n",
    "            \"ci\": ci, \n",
    "            \"p_value\": p_value}"
   ]
  },
  {
   "cell_type": "code",
   "execution_count": 64,
   "id": "f55f89ab",
   "metadata": {},
   "outputs": [
    {
     "data": {
      "image/png": "[encoded data removed]",
      "text/plain": [
       "<Figure size 432x288 with 1 Axes>"
      ]
     },
     "metadata": {
      "needs_background": "light"
     },
     "output_type": "display_data"
    }
   ],
   "source": [
    "# применим бутстрап, для сравнения медиан, возьмем 10000 бут выборок\n",
    "boot_data_median = get_bootstrap(control[control.revenue > 0].revenue, \n",
    "                                 test[test.revenue > 0].revenue, \n",
    "                                 boot_it = 10000, \n",
    "                                 statistic=np.median)"
   ]
  },
  {
   "cell_type": "markdown",
   "id": "1b2231c1",
   "metadata": {},
   "source": [
    "График распределения разности медиан(гистограмма бут-даты) говорит нам о том, что разность медианных значение лежит в промежутке, где нет нуля, то есть разность не равна нулю, а значит, различия наблюдаются."
   ]
  },
  {
   "cell_type": "code",
   "execution_count": 65,
   "id": "8eb22753",
   "metadata": {},
   "outputs": [
    {
     "name": "stdout",
     "output_type": "stream",
     "text": [
      "P_value при применении бутстрэпа для сравнения медиан: 0.0\n"
     ]
    }
   ],
   "source": [
    "print(f\"P_value при применении бутстрэпа для сравнения медиан: {boot_data_median['p_value']}\")"
   ]
  },
  {
   "cell_type": "code",
   "execution_count": 66,
   "id": "6ee2b64f",
   "metadata": {},
   "outputs": [
    {
     "name": "stdout",
     "output_type": "stream",
     "text": [
      "Доверительный интервал при применении бутстрэпа для разности медиан:             0\n",
      "0.025 -2695.0\n",
      "0.975 -2596.0\n"
     ]
    }
   ],
   "source": [
    "print(f\"Доверительный интервал при применении бутстрэпа для разности медиан: {boot_data_median['ci']}\")"
   ]
  },
  {
   "cell_type": "markdown",
   "id": "eea2c0d8",
   "metadata": {},
   "source": [
    "Р-уровень значимости нам говорит о том, что различия конкретно в этих группах статистически значимы."
   ]
  },
  {
   "cell_type": "markdown",
   "id": "663e8285",
   "metadata": {},
   "source": [
    "Какой вывод мы можем сделать из всего этого. \n",
    "\n",
    "Если мы сравниваем всех пользователей, платящих и не платящих, различий мы не получаем(стат. значимых), и поэтому нет оснований отклонить нулевую гипотезу о том, что различий между группами нет. Но, если мы сравним только платящих пользователей, увидим, что различия есть. Таким образом, есть смысл использовать набор акционных предложений, который был показан тестовой группе, так как это стат.значимо повышает все нужные нам ключевые метрики."
   ]
  },
  {
   "cell_type": "markdown",
   "id": "bdc772d4",
   "metadata": {},
   "source": [
    "# ЗАДАНИЕ 3:"
   ]
  },
  {
   "cell_type": "markdown",
   "id": "c3e55848",
   "metadata": {},
   "source": [
    "В игре Plants & Gardens каждый месяц проводятся тематические события, ограниченные по времени. В них игроки могут получить уникальные предметы для сада и персонажей, дополнительные монеты или бонусы. Для получения награды требуется пройти ряд уровней за определенное время. С помощью каких метрик можно оценить результаты последнего прошедшего события?\n",
    "\n",
    "Предположим, в другом событии мы усложнили механику событий так, что при каждой неудачной попытке выполнения уровня игрок будет откатываться на несколько уровней назад. Изменится ли набор метрик оценки результата? Если да, то как?"
   ]
  },
  {
   "cell_type": "markdown",
   "id": "37d6fd37",
   "metadata": {},
   "source": [
    "======================================================================================================================="
   ]
  },
  {
   "cell_type": "markdown",
   "id": "053ebc33",
   "metadata": {},
   "source": [
    "Давайте попробуем разобраться, какие метрики мы будем оценивать для подведения итогов тематических событий. "
   ]
  },
  {
   "cell_type": "markdown",
   "id": "c24b71e9",
   "metadata": {},
   "source": [
    "1. Для начала есть смысл посмотреть на среднее время сессии в период ивента, выросло оно или нет, а также сравнить его со средним временем сессии в целом в другой схожий по времени период, чтобы понимать, возрос ли интерес к игре, проводят ли больше игроки времени в игре. \n",
    "\n",
    "\n",
    "2. Также стоит рассмотреть DAU в период ивента, по нему можно судить об успешности ивента.\n",
    "\n",
    "\n",
    "3. Если в игре есть внутриигровые покупки(бустеры и т.п.), стоит посмотреть на количество и сумму покупок в период ивента, если сам по себе ивент сложный, но дает при этом крутые рарные награды, нужно понимать, сколько юзеры тратят денег на прохождение этого ивента.\n",
    "\n",
    "\n",
    "4. Еще стоит оценить конверсию в получение награды, то есть сколько пользователей, кто начал ивент, дошел до конца, ну и, соотвественно конверсию по прохождению всех уровней, чтобя понять, на каком уровне пользователи испытывали трудности и дропали ивент.\n"
   ]
  },
  {
   "cell_type": "markdown",
   "id": "4cd3b145",
   "metadata": {},
   "source": [
    "Если изменить механику события, и при неудачной попытке игрок будет откатываться назад на несколько уровней назад, следует:\n",
    "\n",
    "1. Оценить процент оттока юзеров во время ивента(Churn rate), сколько юзеров отвалится из-за усложнения игрового процесса.\n",
    "\n",
    "\n",
    "2. Номера уровней, на которых игроки заканчивали ивент, чтобы в будущем подправить сложность.\n",
    "\n",
    "\n",
    "3. Среднее время сессии, если оно упадет, и мы это статистически проверим, то можно судить о неудачности фичи и в следующих ивентах выбрать другой вариант механики.\n",
    "\n",
    "\n",
    "4. Среднее количество попыток на прохождение уровня юзерами до момента их ухода из ивента. Также поможет нам в будущем понимать, насколько легко или сложно им было проходить ивент, и переработать механику в будущих событиях."
   ]
  }
 ],
 "metadata": {
  "kernelspec": {
   "display_name": "Python 3 (ipykernel)",
   "language": "python",
   "name": "python3"
  },
  "language_info": {
   "codemirror_mode": {
    "name": "ipython",
    "version": 3
   },
   "file_extension": ".py",
   "mimetype": "text/x-python",
   "name": "python",
   "nbconvert_exporter": "python",
   "pygments_lexer": "ipython3",
   "version": "3.9.12"
  }
 },
 "nbformat": 4,
 "nbformat_minor": 5
}
